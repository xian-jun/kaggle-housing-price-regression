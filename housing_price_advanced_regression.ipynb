{
 "cells": [
  {
   "cell_type": "code",
   "execution_count": 1,
   "id": "d0e67cb0",
   "metadata": {
    "execution": {
     "iopub.execute_input": "2023-03-03T04:54:33.145767Z",
     "iopub.status.busy": "2023-03-03T04:54:33.145262Z",
     "iopub.status.idle": "2023-03-03T04:54:33.151501Z",
     "shell.execute_reply": "2023-03-03T04:54:33.150164Z"
    },
    "papermill": {
     "duration": 0.02863,
     "end_time": "2023-03-03T04:54:33.154444",
     "exception": false,
     "start_time": "2023-03-03T04:54:33.125814",
     "status": "completed"
    },
    "tags": []
   },
   "outputs": [],
   "source": [
    "#%reset"
   ]
  },
  {
   "cell_type": "code",
   "execution_count": 2,
   "id": "a51d9f37",
   "metadata": {
    "_cell_guid": "b1076dfc-b9ad-4769-8c92-a6c4dae69d19",
    "_uuid": "8f2839f25d086af736a60e9eeb907d3b93b6e0e5",
    "execution": {
     "iopub.execute_input": "2023-03-03T04:54:33.188867Z",
     "iopub.status.busy": "2023-03-03T04:54:33.188496Z",
     "iopub.status.idle": "2023-03-03T04:54:33.200476Z",
     "shell.execute_reply": "2023-03-03T04:54:33.198908Z"
    },
    "papermill": {
     "duration": 0.031794,
     "end_time": "2023-03-03T04:54:33.202616",
     "exception": false,
     "start_time": "2023-03-03T04:54:33.170822",
     "status": "completed"
    },
    "tags": []
   },
   "outputs": [
    {
     "name": "stdout",
     "output_type": "stream",
     "text": [
      "/kaggle/input/house-prices-advanced-regression-techniques/sample_submission.csv\n",
      "/kaggle/input/house-prices-advanced-regression-techniques/data_description.txt\n",
      "/kaggle/input/house-prices-advanced-regression-techniques/train.csv\n",
      "/kaggle/input/house-prices-advanced-regression-techniques/test.csv\n"
     ]
    }
   ],
   "source": [
    "# This Python 3 environment comes with many helpful analytics libraries installed\n",
    "# It is defined by the kaggle/python Docker image: https://github.com/kaggle/docker-python\n",
    "# For example, here's several helpful packages to load\n",
    "\n",
    "import numpy as np # linear algebra\n",
    "import pandas as pd # data processing, CSV file I/O (e.g. pd.read_csv)\n",
    "\n",
    "# Input data files are available in the read-only \"../input/\" directory\n",
    "# For example, running this (by clicking run or pressing Shift+Enter) will list all files under the input directory\n",
    "\n",
    "import os\n",
    "for dirname, _, filenames in os.walk('/kaggle/input'):\n",
    "    for filename in filenames:\n",
    "        print(os.path.join(dirname, filename))\n",
    "\n",
    "# You can write up to 20GB to the current directory (/kaggle/working/) that gets preserved as output when you create a version using \"Save & Run All\" \n",
    "# You can also write temporary files to /kaggle/temp/, but they won't be saved outside of the current session"
   ]
  },
  {
   "cell_type": "markdown",
   "id": "0141fd57",
   "metadata": {
    "papermill": {
     "duration": 0.016181,
     "end_time": "2023-03-03T04:54:33.235156",
     "exception": false,
     "start_time": "2023-03-03T04:54:33.218975",
     "status": "completed"
    },
    "tags": []
   },
   "source": [
    "# import libraries and data"
   ]
  },
  {
   "cell_type": "code",
   "execution_count": 3,
   "id": "18d0a8f3",
   "metadata": {
    "execution": {
     "iopub.execute_input": "2023-03-03T04:54:33.269240Z",
     "iopub.status.busy": "2023-03-03T04:54:33.268900Z",
     "iopub.status.idle": "2023-03-03T04:54:33.358200Z",
     "shell.execute_reply": "2023-03-03T04:54:33.357175Z"
    },
    "papermill": {
     "duration": 0.109089,
     "end_time": "2023-03-03T04:54:33.360392",
     "exception": false,
     "start_time": "2023-03-03T04:54:33.251303",
     "status": "completed"
    },
    "tags": []
   },
   "outputs": [
    {
     "name": "stdout",
     "output_type": "stream",
     "text": [
      "train.shape: (1460, 81)\n",
      "test.shape: (1459, 80)\n",
      "df_all.shape (2919, 81)\n"
     ]
    }
   ],
   "source": [
    "train = pd.read_csv(\"../input/house-prices-advanced-regression-techniques/train.csv\")\n",
    "test = pd.read_csv(\"../input/house-prices-advanced-regression-techniques/test.csv\")\n",
    "\n",
    "print(\"train.shape:\", train.shape)\n",
    "print(\"test.shape:\", test.shape)\n",
    "\n",
    "df_all = pd.concat([train, test], axis=0)\n",
    "print('df_all.shape', df_all.shape)"
   ]
  },
  {
   "cell_type": "code",
   "execution_count": 4,
   "id": "b005d871",
   "metadata": {
    "execution": {
     "iopub.execute_input": "2023-03-03T04:54:33.395466Z",
     "iopub.status.busy": "2023-03-03T04:54:33.395143Z",
     "iopub.status.idle": "2023-03-03T04:54:35.158378Z",
     "shell.execute_reply": "2023-03-03T04:54:35.157054Z"
    },
    "papermill": {
     "duration": 1.784299,
     "end_time": "2023-03-03T04:54:35.161574",
     "exception": false,
     "start_time": "2023-03-03T04:54:33.377275",
     "status": "completed"
    },
    "tags": []
   },
   "outputs": [],
   "source": [
    "import xgboost as xgb\n",
    "# from sklearn.metrics import accuracy_score\n",
    "\n",
    "# import packages for hyperparameters tuning\n",
    "from hyperopt import STATUS_OK, Trials, fmin, hp, tpe\n",
    "\n",
    "from sklearn.metrics import mean_squared_error\n",
    "from sklearn.model_selection import train_test_split\n",
    "from sklearn.model_selection import cross_val_score\n",
    "from sklearn.model_selection import KFold\n",
    "\n",
    "import matplotlib.pyplot as plt\n",
    "import seaborn as sns"
   ]
  },
  {
   "cell_type": "markdown",
   "id": "95e5ccd2",
   "metadata": {
    "papermill": {
     "duration": 0.015596,
     "end_time": "2023-03-03T04:54:35.193606",
     "exception": false,
     "start_time": "2023-03-03T04:54:35.178010",
     "status": "completed"
    },
    "tags": []
   },
   "source": [
    "# Data Preparation\n",
    "\n",
    "1. check if contains duplicates\n",
    "2. check data types\n",
    "3. check null values"
   ]
  },
  {
   "cell_type": "markdown",
   "id": "40a287c3",
   "metadata": {
    "papermill": {
     "duration": 0.015344,
     "end_time": "2023-03-03T04:54:35.225163",
     "exception": false,
     "start_time": "2023-03-03T04:54:35.209819",
     "status": "completed"
    },
    "tags": []
   },
   "source": [
    "#### data formatting\n",
    "\n",
    "Format data types into appropriate ones."
   ]
  },
  {
   "cell_type": "code",
   "execution_count": 5,
   "id": "be0ef5e1",
   "metadata": {
    "execution": {
     "iopub.execute_input": "2023-03-03T04:54:35.258524Z",
     "iopub.status.busy": "2023-03-03T04:54:35.258148Z",
     "iopub.status.idle": "2023-03-03T04:54:35.265286Z",
     "shell.execute_reply": "2023-03-03T04:54:35.264379Z"
    },
    "papermill": {
     "duration": 0.025711,
     "end_time": "2023-03-03T04:54:35.267086",
     "exception": false,
     "start_time": "2023-03-03T04:54:35.241375",
     "status": "completed"
    },
    "tags": []
   },
   "outputs": [
    {
     "name": "stdout",
     "output_type": "stream",
     "text": [
      "cat_cols: ['MSZoning', 'Street', 'Alley', 'LotShape', 'LandContour', 'Utilities', 'LotConfig', 'LandSlope', 'Neighborhood', 'Condition1', 'Condition2', 'BldgType', 'HouseStyle', 'RoofStyle', 'RoofMatl', 'Exterior1st', 'Exterior2nd', 'MasVnrType', 'ExterQual', 'ExterCond', 'Foundation', 'BsmtQual', 'BsmtCond', 'BsmtExposure', 'BsmtFinType1', 'BsmtFinType2', 'Heating', 'HeatingQC', 'CentralAir', 'Electrical', 'KitchenQual', 'Functional', 'FireplaceQu', 'GarageType', 'GarageFinish', 'GarageQual', 'GarageCond', 'PavedDrive', 'PoolQC', 'Fence', 'MiscFeature', 'SaleType', 'SaleCondition']\n",
      "\n",
      "num_cols: ['Id', 'MSSubClass', 'LotFrontage', 'LotArea', 'OverallQual', 'OverallCond', 'YearBuilt', 'YearRemodAdd', 'MasVnrArea', 'BsmtFinSF1', 'BsmtFinSF2', 'BsmtUnfSF', 'TotalBsmtSF', '1stFlrSF', '2ndFlrSF', 'LowQualFinSF', 'GrLivArea', 'BsmtFullBath', 'BsmtHalfBath', 'FullBath', 'HalfBath', 'BedroomAbvGr', 'KitchenAbvGr', 'TotRmsAbvGrd', 'Fireplaces', 'GarageYrBlt', 'GarageCars', 'GarageArea', 'WoodDeckSF', 'OpenPorchSF', 'EnclosedPorch', '3SsnPorch', 'ScreenPorch', 'PoolArea', 'MiscVal', 'MoSold', 'YrSold', 'SalePrice']\n"
     ]
    }
   ],
   "source": [
    "# find out categorical and numerical columns\n",
    "cat_cols = list(train.dtypes[train.dtypes == 'object'].index)\n",
    "num_cols = list(train.dtypes[train.dtypes != 'object'].index)\n",
    "\n",
    "print('cat_cols:', cat_cols)\n",
    "print('\\nnum_cols:', num_cols)"
   ]
  },
  {
   "cell_type": "code",
   "execution_count": 6,
   "id": "20be9ab5",
   "metadata": {
    "execution": {
     "iopub.execute_input": "2023-03-03T04:54:35.301928Z",
     "iopub.status.busy": "2023-03-03T04:54:35.301484Z",
     "iopub.status.idle": "2023-03-03T04:54:35.330676Z",
     "shell.execute_reply": "2023-03-03T04:54:35.329503Z"
    },
    "papermill": {
     "duration": 0.049395,
     "end_time": "2023-03-03T04:54:35.333007",
     "exception": false,
     "start_time": "2023-03-03T04:54:35.283612",
     "status": "completed"
    },
    "tags": []
   },
   "outputs": [],
   "source": [
    "# convert to string first for ease of preprocessing\n",
    "# to be converted back to numbers before encoding\n",
    "train.loc[:, ['YearBuilt','YearRemodAdd', 'MoSold', 'YrSold', 'Id']] = train.loc[:, ['YearBuilt','YearRemodAdd', 'MoSold', 'YrSold', 'Id']].astype(str)\n",
    "test.loc[:, ['YearBuilt','YearRemodAdd', 'MoSold', 'YrSold', 'Id']] = test.loc[:, ['YearBuilt','YearRemodAdd', 'MoSold', 'YrSold', 'Id']].astype(str)\n",
    "\n",
    "# assign new cat_cols and num_cols again\n",
    "cat_cols = list(train.dtypes[train.dtypes == 'object'].index)\n",
    "num_cols = list(train.dtypes[train.dtypes != 'object'].index)"
   ]
  },
  {
   "cell_type": "code",
   "execution_count": 7,
   "id": "950fc2e4",
   "metadata": {
    "execution": {
     "iopub.execute_input": "2023-03-03T04:54:35.369238Z",
     "iopub.status.busy": "2023-03-03T04:54:35.368823Z",
     "iopub.status.idle": "2023-03-03T04:54:35.374128Z",
     "shell.execute_reply": "2023-03-03T04:54:35.372809Z"
    },
    "papermill": {
     "duration": 0.027764,
     "end_time": "2023-03-03T04:54:35.377149",
     "exception": false,
     "start_time": "2023-03-03T04:54:35.349385",
     "status": "completed"
    },
    "tags": []
   },
   "outputs": [
    {
     "name": "stdout",
     "output_type": "stream",
     "text": [
      "cat_cols: ['Id', 'MSZoning', 'Street', 'Alley', 'LotShape', 'LandContour', 'Utilities', 'LotConfig', 'LandSlope', 'Neighborhood', 'Condition1', 'Condition2', 'BldgType', 'HouseStyle', 'YearBuilt', 'YearRemodAdd', 'RoofStyle', 'RoofMatl', 'Exterior1st', 'Exterior2nd', 'MasVnrType', 'ExterQual', 'ExterCond', 'Foundation', 'BsmtQual', 'BsmtCond', 'BsmtExposure', 'BsmtFinType1', 'BsmtFinType2', 'Heating', 'HeatingQC', 'CentralAir', 'Electrical', 'KitchenQual', 'Functional', 'FireplaceQu', 'GarageType', 'GarageFinish', 'GarageQual', 'GarageCond', 'PavedDrive', 'PoolQC', 'Fence', 'MiscFeature', 'MoSold', 'YrSold', 'SaleType', 'SaleCondition']\n",
      "\n",
      "num_cols: ['MSSubClass', 'LotFrontage', 'LotArea', 'OverallQual', 'OverallCond', 'MasVnrArea', 'BsmtFinSF1', 'BsmtFinSF2', 'BsmtUnfSF', 'TotalBsmtSF', '1stFlrSF', '2ndFlrSF', 'LowQualFinSF', 'GrLivArea', 'BsmtFullBath', 'BsmtHalfBath', 'FullBath', 'HalfBath', 'BedroomAbvGr', 'KitchenAbvGr', 'TotRmsAbvGrd', 'Fireplaces', 'GarageYrBlt', 'GarageCars', 'GarageArea', 'WoodDeckSF', 'OpenPorchSF', 'EnclosedPorch', '3SsnPorch', 'ScreenPorch', 'PoolArea', 'MiscVal', 'SalePrice']\n"
     ]
    }
   ],
   "source": [
    "print('cat_cols:', cat_cols)\n",
    "print('\\nnum_cols:', num_cols)"
   ]
  },
  {
   "cell_type": "markdown",
   "id": "b8cfbeee",
   "metadata": {
    "papermill": {
     "duration": 0.016138,
     "end_time": "2023-03-03T04:54:35.410985",
     "exception": false,
     "start_time": "2023-03-03T04:54:35.394847",
     "status": "completed"
    },
    "tags": []
   },
   "source": [
    "#### check duplicates"
   ]
  },
  {
   "cell_type": "code",
   "execution_count": 8,
   "id": "2915b988",
   "metadata": {
    "execution": {
     "iopub.execute_input": "2023-03-03T04:54:35.446611Z",
     "iopub.status.busy": "2023-03-03T04:54:35.446213Z",
     "iopub.status.idle": "2023-03-03T04:54:35.475078Z",
     "shell.execute_reply": "2023-03-03T04:54:35.474080Z"
    },
    "papermill": {
     "duration": 0.048988,
     "end_time": "2023-03-03T04:54:35.477532",
     "exception": false,
     "start_time": "2023-03-03T04:54:35.428544",
     "status": "completed"
    },
    "tags": []
   },
   "outputs": [
    {
     "data": {
      "text/html": [
       "<div>\n",
       "<style scoped>\n",
       "    .dataframe tbody tr th:only-of-type {\n",
       "        vertical-align: middle;\n",
       "    }\n",
       "\n",
       "    .dataframe tbody tr th {\n",
       "        vertical-align: top;\n",
       "    }\n",
       "\n",
       "    .dataframe thead th {\n",
       "        text-align: right;\n",
       "    }\n",
       "</style>\n",
       "<table border=\"1\" class=\"dataframe\">\n",
       "  <thead>\n",
       "    <tr style=\"text-align: right;\">\n",
       "      <th></th>\n",
       "      <th>Id</th>\n",
       "      <th>MSSubClass</th>\n",
       "      <th>MSZoning</th>\n",
       "      <th>LotFrontage</th>\n",
       "      <th>LotArea</th>\n",
       "      <th>Street</th>\n",
       "      <th>Alley</th>\n",
       "      <th>LotShape</th>\n",
       "      <th>LandContour</th>\n",
       "      <th>Utilities</th>\n",
       "      <th>...</th>\n",
       "      <th>PoolArea</th>\n",
       "      <th>PoolQC</th>\n",
       "      <th>Fence</th>\n",
       "      <th>MiscFeature</th>\n",
       "      <th>MiscVal</th>\n",
       "      <th>MoSold</th>\n",
       "      <th>YrSold</th>\n",
       "      <th>SaleType</th>\n",
       "      <th>SaleCondition</th>\n",
       "      <th>SalePrice</th>\n",
       "    </tr>\n",
       "  </thead>\n",
       "  <tbody>\n",
       "  </tbody>\n",
       "</table>\n",
       "<p>0 rows × 81 columns</p>\n",
       "</div>"
      ],
      "text/plain": [
       "Empty DataFrame\n",
       "Columns: [Id, MSSubClass, MSZoning, LotFrontage, LotArea, Street, Alley, LotShape, LandContour, Utilities, LotConfig, LandSlope, Neighborhood, Condition1, Condition2, BldgType, HouseStyle, OverallQual, OverallCond, YearBuilt, YearRemodAdd, RoofStyle, RoofMatl, Exterior1st, Exterior2nd, MasVnrType, MasVnrArea, ExterQual, ExterCond, Foundation, BsmtQual, BsmtCond, BsmtExposure, BsmtFinType1, BsmtFinSF1, BsmtFinType2, BsmtFinSF2, BsmtUnfSF, TotalBsmtSF, Heating, HeatingQC, CentralAir, Electrical, 1stFlrSF, 2ndFlrSF, LowQualFinSF, GrLivArea, BsmtFullBath, BsmtHalfBath, FullBath, HalfBath, BedroomAbvGr, KitchenAbvGr, KitchenQual, TotRmsAbvGrd, Functional, Fireplaces, FireplaceQu, GarageType, GarageYrBlt, GarageFinish, GarageCars, GarageArea, GarageQual, GarageCond, PavedDrive, WoodDeckSF, OpenPorchSF, EnclosedPorch, 3SsnPorch, ScreenPorch, PoolArea, PoolQC, Fence, MiscFeature, MiscVal, MoSold, YrSold, SaleType, SaleCondition, SalePrice]\n",
       "Index: []\n",
       "\n",
       "[0 rows x 81 columns]"
      ]
     },
     "execution_count": 8,
     "metadata": {},
     "output_type": "execute_result"
    }
   ],
   "source": [
    "# check if contains duplicates\n",
    "train[train.duplicated(subset=['Id']) == True]"
   ]
  },
  {
   "cell_type": "markdown",
   "id": "68d0174c",
   "metadata": {
    "papermill": {
     "duration": 0.016523,
     "end_time": "2023-03-03T04:54:35.511055",
     "exception": false,
     "start_time": "2023-03-03T04:54:35.494532",
     "status": "completed"
    },
    "tags": []
   },
   "source": [
    "#### check null values\n",
    "\n",
    "If more than half are null values, columns are dropped. <br>\n",
    "If less than half, categorical features are imputed with mode, numerical features are imputed with mean. "
   ]
  },
  {
   "cell_type": "code",
   "execution_count": 9,
   "id": "f784e56a",
   "metadata": {
    "execution": {
     "iopub.execute_input": "2023-03-03T04:54:35.546215Z",
     "iopub.status.busy": "2023-03-03T04:54:35.545824Z",
     "iopub.status.idle": "2023-03-03T04:54:35.568336Z",
     "shell.execute_reply": "2023-03-03T04:54:35.567169Z"
    },
    "papermill": {
     "duration": 0.042853,
     "end_time": "2023-03-03T04:54:35.570817",
     "exception": false,
     "start_time": "2023-03-03T04:54:35.527964",
     "status": "completed"
    },
    "tags": []
   },
   "outputs": [
    {
     "name": "stdout",
     "output_type": "stream",
     "text": [
      "Null values in categorical columns:\n",
      "Alley           1369\n",
      "MasVnrType         8\n",
      "BsmtQual          37\n",
      "BsmtCond          37\n",
      "BsmtExposure      38\n",
      "BsmtFinType1      37\n",
      "BsmtFinType2      38\n",
      "Electrical         1\n",
      "FireplaceQu      690\n",
      "GarageType        81\n",
      "GarageFinish      81\n",
      "GarageQual        81\n",
      "GarageCond        81\n",
      "PoolQC          1453\n",
      "Fence           1179\n",
      "MiscFeature     1406\n",
      "dtype: int64\n",
      "\n",
      "Null values in numerical columns:\n",
      "LotFrontage    259\n",
      "MasVnrArea       8\n",
      "GarageYrBlt     81\n",
      "dtype: int64\n"
     ]
    }
   ],
   "source": [
    "# check null values\n",
    "print('Null values in categorical columns:')\n",
    "cat_na = train[cat_cols].isnull().sum()[train[cat_cols].isnull().sum() > 0]\n",
    "print(cat_na)\n",
    "\n",
    "print('\\nNull values in numerical columns:')\n",
    "num_na = train[num_cols].isnull().sum()[train[num_cols].isnull().sum() > 0]\n",
    "print(num_na)"
   ]
  },
  {
   "cell_type": "code",
   "execution_count": 10,
   "id": "a107978b",
   "metadata": {
    "execution": {
     "iopub.execute_input": "2023-03-03T04:54:35.605634Z",
     "iopub.status.busy": "2023-03-03T04:54:35.605278Z",
     "iopub.status.idle": "2023-03-03T04:54:35.615657Z",
     "shell.execute_reply": "2023-03-03T04:54:35.614964Z"
    },
    "papermill": {
     "duration": 0.030084,
     "end_time": "2023-03-03T04:54:35.617532",
     "exception": false,
     "start_time": "2023-03-03T04:54:35.587448",
     "status": "completed"
    },
    "tags": []
   },
   "outputs": [],
   "source": [
    "# drop columns with too many null values \n",
    "cols_to_drop = [i for (i, v) in zip(cat_na.index, cat_na.values) if v/len(train) > 0.5]\n",
    "train.drop(cols_to_drop, axis=1, inplace=True)\n",
    "test.drop(cols_to_drop, axis=1, inplace=True)"
   ]
  },
  {
   "cell_type": "code",
   "execution_count": 11,
   "id": "bb8ce94b",
   "metadata": {
    "execution": {
     "iopub.execute_input": "2023-03-03T04:54:35.654513Z",
     "iopub.status.busy": "2023-03-03T04:54:35.653432Z",
     "iopub.status.idle": "2023-03-03T04:54:35.681683Z",
     "shell.execute_reply": "2023-03-03T04:54:35.680973Z"
    },
    "papermill": {
     "duration": 0.048604,
     "end_time": "2023-03-03T04:54:35.683917",
     "exception": false,
     "start_time": "2023-03-03T04:54:35.635313",
     "status": "completed"
    },
    "tags": []
   },
   "outputs": [],
   "source": [
    "# for train data, fill cat_cols with mode; num_cols with mean\n",
    "for i in [ i for i in cat_na.index if i not in cols_to_drop]:\n",
    "    train.loc[:, [i]] = train.loc[:, [i]].fillna(\"NONE\")\n",
    "\n",
    "for i in num_na.index:\n",
    "    train.loc[:, [i]] = train.loc[:, [i]].fillna(train[i].mean())"
   ]
  },
  {
   "cell_type": "code",
   "execution_count": 12,
   "id": "3f6e0107",
   "metadata": {
    "execution": {
     "iopub.execute_input": "2023-03-03T04:54:35.719039Z",
     "iopub.status.busy": "2023-03-03T04:54:35.718443Z",
     "iopub.status.idle": "2023-03-03T04:54:35.731463Z",
     "shell.execute_reply": "2023-03-03T04:54:35.730755Z"
    },
    "papermill": {
     "duration": 0.033396,
     "end_time": "2023-03-03T04:54:35.733816",
     "exception": false,
     "start_time": "2023-03-03T04:54:35.700420",
     "status": "completed"
    },
    "tags": []
   },
   "outputs": [
    {
     "data": {
      "text/plain": [
       "Series([], dtype: int64)"
      ]
     },
     "execution_count": 12,
     "metadata": {},
     "output_type": "execute_result"
    }
   ],
   "source": [
    "# train data cleaned\n",
    "train.isnull().sum()[train.isnull().sum() > 0]"
   ]
  },
  {
   "cell_type": "code",
   "execution_count": 13,
   "id": "a01d57a9",
   "metadata": {
    "execution": {
     "iopub.execute_input": "2023-03-03T04:54:35.769335Z",
     "iopub.status.busy": "2023-03-03T04:54:35.768781Z",
     "iopub.status.idle": "2023-03-03T04:54:35.837816Z",
     "shell.execute_reply": "2023-03-03T04:54:35.836088Z"
    },
    "papermill": {
     "duration": 0.089614,
     "end_time": "2023-03-03T04:54:35.840275",
     "exception": false,
     "start_time": "2023-03-03T04:54:35.750661",
     "status": "completed"
    },
    "tags": []
   },
   "outputs": [],
   "source": [
    "test_cat_na = test.select_dtypes(include = 'object').isnull().sum()[test.select_dtypes(include = 'object').isnull().sum() > 0]\n",
    "test_num_na = test.select_dtypes(exclude = 'object').isnull().sum()[test.select_dtypes(exclude = 'object').isnull().sum() > 0]\n",
    "\n",
    "# for test data, fill cols with train mode / mean\n",
    "for i in [ i for i in test_cat_na.index]:\n",
    "    test.loc[:, [i]] = test.loc[:, [i]].fillna(train[i].mode()[0])\n",
    "\n",
    "for i in test_num_na.index:\n",
    "    test.loc[:, [i]] = test.loc[:, [i]].fillna(train[i].mean())"
   ]
  },
  {
   "cell_type": "code",
   "execution_count": 14,
   "id": "81110a8b",
   "metadata": {
    "execution": {
     "iopub.execute_input": "2023-03-03T04:54:35.875832Z",
     "iopub.status.busy": "2023-03-03T04:54:35.875373Z",
     "iopub.status.idle": "2023-03-03T04:54:35.898818Z",
     "shell.execute_reply": "2023-03-03T04:54:35.897798Z"
    },
    "papermill": {
     "duration": 0.04417,
     "end_time": "2023-03-03T04:54:35.901081",
     "exception": false,
     "start_time": "2023-03-03T04:54:35.856911",
     "status": "completed"
    },
    "tags": []
   },
   "outputs": [
    {
     "data": {
      "text/plain": [
       "Series([], dtype: int64)"
      ]
     },
     "execution_count": 14,
     "metadata": {},
     "output_type": "execute_result"
    }
   ],
   "source": [
    "# test data cleaned\n",
    "train.isnull().sum()[train.isnull().sum() > 0]\n",
    "test.isnull().sum()[test.isnull().sum() > 0]"
   ]
  },
  {
   "cell_type": "markdown",
   "id": "c7e9f8a5",
   "metadata": {
    "papermill": {
     "duration": 0.016486,
     "end_time": "2023-03-03T04:54:35.934710",
     "exception": false,
     "start_time": "2023-03-03T04:54:35.918224",
     "status": "completed"
    },
    "tags": []
   },
   "source": [
    "# Preprocessing\n",
    "\n",
    "1. remove outliers for important features\n",
    "2. Feature engineering / generation\n",
    "3. Normalize numerical data (handling heterokedascity for linear models) \n",
    "4. encode data"
   ]
  },
  {
   "cell_type": "markdown",
   "id": "dbf27fae",
   "metadata": {
    "papermill": {
     "duration": 0.016386,
     "end_time": "2023-03-03T04:54:35.968171",
     "exception": false,
     "start_time": "2023-03-03T04:54:35.951785",
     "status": "completed"
    },
    "tags": []
   },
   "source": [
    "####  Remove outliers of important features\n",
    "\n",
    "1. Find out important features (with correlation or information gain)\n",
    "2. Check if there is any outliers to remove (rely on intuition lol)"
   ]
  },
  {
   "cell_type": "code",
   "execution_count": 15,
   "id": "68621256",
   "metadata": {
    "execution": {
     "iopub.execute_input": "2023-03-03T04:54:36.003091Z",
     "iopub.status.busy": "2023-03-03T04:54:36.002700Z",
     "iopub.status.idle": "2023-03-03T04:54:36.019578Z",
     "shell.execute_reply": "2023-03-03T04:54:36.018142Z"
    },
    "papermill": {
     "duration": 0.036633,
     "end_time": "2023-03-03T04:54:36.021597",
     "exception": false,
     "start_time": "2023-03-03T04:54:35.984964",
     "status": "completed"
    },
    "tags": []
   },
   "outputs": [
    {
     "data": {
      "text/plain": [
       "SalePrice       1.000000\n",
       "OverallQual     0.790982\n",
       "GrLivArea       0.708624\n",
       "GarageCars      0.640409\n",
       "GarageArea      0.623431\n",
       "TotalBsmtSF     0.613581\n",
       "1stFlrSF        0.605852\n",
       "FullBath        0.560664\n",
       "TotRmsAbvGrd    0.533723\n",
       "MasVnrArea      0.475241\n",
       "GarageYrBlt     0.470177\n",
       "Name: SalePrice, dtype: float64"
      ]
     },
     "execution_count": 15,
     "metadata": {},
     "output_type": "execute_result"
    }
   ],
   "source": [
    "# find important features\n",
    "#correlation matrix\n",
    "corrmat = train.corr()\n",
    "\n",
    "# find the features that have greatest correlation with 'SalePrice' \n",
    "top_10 = corrmat['SalePrice'].sort_values(ascending=False)[0:11]\n",
    "top_10\n"
   ]
  },
  {
   "cell_type": "code",
   "execution_count": 16,
   "id": "ced3f6e4",
   "metadata": {
    "execution": {
     "iopub.execute_input": "2023-03-03T04:54:36.056420Z",
     "iopub.status.busy": "2023-03-03T04:54:36.056101Z",
     "iopub.status.idle": "2023-03-03T04:54:38.728518Z",
     "shell.execute_reply": "2023-03-03T04:54:38.727516Z"
    },
    "papermill": {
     "duration": 2.693702,
     "end_time": "2023-03-03T04:54:38.731962",
     "exception": false,
     "start_time": "2023-03-03T04:54:36.038260",
     "status": "completed"
    },
    "tags": []
   },
   "outputs": [
    {
     "data": {
      "image/png": "[encoded data removed]",
      "text/plain": [
       "<Figure size 1728x1440 with 11 Axes>"
      ]
     },
     "metadata": {},
     "output_type": "display_data"
    }
   ],
   "source": [
    "# checking out relationship between features and saleprice\n",
    "sns.set(rc={'figure.figsize':(24,20)})\n",
    "\n",
    "for i, column in enumerate(list(top_10.index), 1):\n",
    "    plt.subplot(4,3,i)\n",
    "    p=sns.scatterplot(x=column, y='SalePrice', data=train)\n",
    "    \n",
    "plt.tight_layout()"
   ]
  },
  {
   "cell_type": "code",
   "execution_count": 17,
   "id": "9592b160",
   "metadata": {
    "execution": {
     "iopub.execute_input": "2023-03-03T04:54:38.776421Z",
     "iopub.status.busy": "2023-03-03T04:54:38.775979Z",
     "iopub.status.idle": "2023-03-03T04:54:38.790459Z",
     "shell.execute_reply": "2023-03-03T04:54:38.789519Z"
    },
    "papermill": {
     "duration": 0.04007,
     "end_time": "2023-03-03T04:54:38.792655",
     "exception": false,
     "start_time": "2023-03-03T04:54:38.752585",
     "status": "completed"
    },
    "tags": []
   },
   "outputs": [],
   "source": [
    "# remove the outliers\n",
    "train = train.drop(train[train.GrLivArea > 4500].index, axis=0, inplace=False)\n",
    "train = train.drop(train[train.TotalBsmtSF > 6000].index, axis=0, inplace=False)\n",
    "train = train.drop(train[train['1stFlrSF'] > 4000].index, axis=0, inplace=False)"
   ]
  },
  {
   "cell_type": "code",
   "execution_count": 18,
   "id": "be5b8dd6",
   "metadata": {
    "execution": {
     "iopub.execute_input": "2023-03-03T04:54:38.834399Z",
     "iopub.status.busy": "2023-03-03T04:54:38.833944Z",
     "iopub.status.idle": "2023-03-03T04:54:38.839194Z",
     "shell.execute_reply": "2023-03-03T04:54:38.837654Z"
    },
    "papermill": {
     "duration": 0.029079,
     "end_time": "2023-03-03T04:54:38.842028",
     "exception": false,
     "start_time": "2023-03-03T04:54:38.812949",
     "status": "completed"
    },
    "tags": []
   },
   "outputs": [],
   "source": [
    "# location and macro site"
   ]
  },
  {
   "cell_type": "markdown",
   "id": "35e452ee",
   "metadata": {
    "papermill": {
     "duration": 0.019728,
     "end_time": "2023-03-03T04:54:38.881997",
     "exception": false,
     "start_time": "2023-03-03T04:54:38.862269",
     "status": "completed"
    },
    "tags": []
   },
   "source": [
    "#### Feature engineering\n",
    "\n",
    "Based on domain knowledge. Make good use of interactions between features such as ratio, multiplication, adding things up,..."
   ]
  },
  {
   "cell_type": "markdown",
   "id": "0404fe9d",
   "metadata": {
    "papermill": {
     "duration": 0.020092,
     "end_time": "2023-03-03T04:54:38.922995",
     "exception": false,
     "start_time": "2023-03-03T04:54:38.902903",
     "status": "completed"
    },
    "tags": []
   },
   "source": [
    "**What are the most important things in real estate price?** <br>\n",
    "\n",
    "1. Location, location, location. \n",
    "2. Size of property\n",
    "    - indoor area\n",
    "    - outdoor area\n",
    "    - ground floor area\n",
    "3. Type of property (commercial or residential or industrial)\n",
    "    - how many storeys?  \n",
    "    - has basement?\n",
    "4. conveneince: infrastructre nearby\n",
    "5. Condition of the house\n"
   ]
  },
  {
   "cell_type": "code",
   "execution_count": 19,
   "id": "495081e5",
   "metadata": {
    "execution": {
     "iopub.execute_input": "2023-03-03T04:54:38.967814Z",
     "iopub.status.busy": "2023-03-03T04:54:38.967453Z",
     "iopub.status.idle": "2023-03-03T04:54:38.972220Z",
     "shell.execute_reply": "2023-03-03T04:54:38.971113Z"
    },
    "papermill": {
     "duration": 0.030069,
     "end_time": "2023-03-03T04:54:38.974663",
     "exception": false,
     "start_time": "2023-03-03T04:54:38.944594",
     "status": "completed"
    },
    "tags": []
   },
   "outputs": [
    {
     "name": "stdout",
     "output_type": "stream",
     "text": [
      "['Id', 'MSZoning', 'Street', 'Alley', 'LotShape', 'LandContour', 'Utilities', 'LotConfig', 'LandSlope', 'Neighborhood', 'Condition1', 'Condition2', 'BldgType', 'HouseStyle', 'YearBuilt', 'YearRemodAdd', 'RoofStyle', 'RoofMatl', 'Exterior1st', 'Exterior2nd', 'MasVnrType', 'ExterQual', 'ExterCond', 'Foundation', 'BsmtQual', 'BsmtCond', 'BsmtExposure', 'BsmtFinType1', 'BsmtFinType2', 'Heating', 'HeatingQC', 'CentralAir', 'Electrical', 'KitchenQual', 'Functional', 'FireplaceQu', 'GarageType', 'GarageFinish', 'GarageQual', 'GarageCond', 'PavedDrive', 'PoolQC', 'Fence', 'MiscFeature', 'MoSold', 'YrSold', 'SaleType', 'SaleCondition']\n"
     ]
    }
   ],
   "source": [
    "print(cat_cols)"
   ]
  },
  {
   "cell_type": "code",
   "execution_count": 20,
   "id": "e8564a51",
   "metadata": {
    "execution": {
     "iopub.execute_input": "2023-03-03T04:54:39.018121Z",
     "iopub.status.busy": "2023-03-03T04:54:39.017691Z",
     "iopub.status.idle": "2023-03-03T04:54:39.023041Z",
     "shell.execute_reply": "2023-03-03T04:54:39.021302Z"
    },
    "papermill": {
     "duration": 0.029695,
     "end_time": "2023-03-03T04:54:39.025560",
     "exception": false,
     "start_time": "2023-03-03T04:54:38.995865",
     "status": "completed"
    },
    "tags": []
   },
   "outputs": [
    {
     "name": "stdout",
     "output_type": "stream",
     "text": [
      "['MSSubClass', 'LotFrontage', 'LotArea', 'OverallQual', 'OverallCond', 'MasVnrArea', 'BsmtFinSF1', 'BsmtFinSF2', 'BsmtUnfSF', 'TotalBsmtSF', '1stFlrSF', '2ndFlrSF', 'LowQualFinSF', 'GrLivArea', 'BsmtFullBath', 'BsmtHalfBath', 'FullBath', 'HalfBath', 'BedroomAbvGr', 'KitchenAbvGr', 'TotRmsAbvGrd', 'Fireplaces', 'GarageYrBlt', 'GarageCars', 'GarageArea', 'WoodDeckSF', 'OpenPorchSF', 'EnclosedPorch', '3SsnPorch', 'ScreenPorch', 'PoolArea', 'MiscVal', 'SalePrice']\n"
     ]
    }
   ],
   "source": [
    "print(num_cols)"
   ]
  },
  {
   "cell_type": "code",
   "execution_count": 21,
   "id": "3f07f7a6",
   "metadata": {
    "execution": {
     "iopub.execute_input": "2023-03-03T04:54:39.070331Z",
     "iopub.status.busy": "2023-03-03T04:54:39.069935Z",
     "iopub.status.idle": "2023-03-03T04:54:39.078054Z",
     "shell.execute_reply": "2023-03-03T04:54:39.077098Z"
    },
    "papermill": {
     "duration": 0.032248,
     "end_time": "2023-03-03T04:54:39.079857",
     "exception": false,
     "start_time": "2023-03-03T04:54:39.047609",
     "status": "completed"
    },
    "tags": []
   },
   "outputs": [],
   "source": [
    "def feature_extract(df):\n",
    "    \n",
    "    # location, location, location\n",
    "    # types of housing\n",
    "    df['MSSubClass'] = df['MSSubClass'].astype(str)\n",
    "    df['MSZoning_SubClass'] = df['MSSubClass'] + '_' + df['MSZoning']\n",
    "    df['Neighborhood_BldgType'] = df['Neighborhood'] + '_'+ df['BldgType']\n",
    "    df['Neighborhood_HouseStyle'] = df['Neighborhood'] + '_' + df['HouseStyle']\n",
    "    df['Neighborhood_MSSubClass'] = df['Neighborhood'] + '_'+ df['MSSubClass']\n",
    "    df['Neighborhood_MSZoning'] = df['Neighborhood'] + '_' + df['MSZoning']\n",
    "    df['Neighborhood_LotConfig'] = df['Neighborhood'] + '_' + df['LotConfig']\n",
    "    df['MSZoning_Condition1'] = df['MSZoning'] + '_' + df['Condition1']\n",
    "    df['MSZoning_Condition2'] = df['MSZoning'] + '_' + df['Condition2']\n",
    "    \n",
    "    # size based on neighborhood, house type, zoning\n",
    "    df['TotalSF'] = df['TotalBsmtSF'] + df['1stFlrSF'] + df['2ndFlrSF']\n",
    "    df['Neighborhood_median_SF'] = df.groupby('Neighborhood')['TotalSF'].transform(lambda x: x.median())\n",
    "    return df"
   ]
  },
  {
   "cell_type": "code",
   "execution_count": 22,
   "id": "4acb6402",
   "metadata": {
    "execution": {
     "iopub.execute_input": "2023-03-03T04:54:39.122277Z",
     "iopub.status.busy": "2023-03-03T04:54:39.121906Z",
     "iopub.status.idle": "2023-03-03T04:54:39.163769Z",
     "shell.execute_reply": "2023-03-03T04:54:39.162805Z"
    },
    "papermill": {
     "duration": 0.065715,
     "end_time": "2023-03-03T04:54:39.166010",
     "exception": false,
     "start_time": "2023-03-03T04:54:39.100295",
     "status": "completed"
    },
    "tags": []
   },
   "outputs": [],
   "source": [
    "train = feature_extract(train)\n",
    "test = feature_extract(test)"
   ]
  },
  {
   "cell_type": "code",
   "execution_count": 23,
   "id": "259a6a3b",
   "metadata": {
    "execution": {
     "iopub.execute_input": "2023-03-03T04:54:39.207788Z",
     "iopub.status.busy": "2023-03-03T04:54:39.207209Z",
     "iopub.status.idle": "2023-03-03T04:54:39.219666Z",
     "shell.execute_reply": "2023-03-03T04:54:39.218786Z"
    },
    "papermill": {
     "duration": 0.035508,
     "end_time": "2023-03-03T04:54:39.221711",
     "exception": false,
     "start_time": "2023-03-03T04:54:39.186203",
     "status": "completed"
    },
    "tags": []
   },
   "outputs": [],
   "source": [
    "def num_feature_engineering_pipeline(num_features):\n",
    "    \n",
    "    # indoor size\n",
    "    num_features['Total_sqr_footage'] = (num_features['BsmtFinSF1'] + num_features['BsmtFinSF2'] +\n",
    "                                     num_features['1stFlrSF'] + num_features['2ndFlrSF'])\n",
    "    num_features['TotalSF'] = num_features['TotalBsmtSF'] + num_features['1stFlrSF'] + num_features['2ndFlrSF']\n",
    "    \n",
    "    # indoor features\n",
    "    num_features['Total_Bathrooms'] = (num_features['FullBath'] + (0.5 * num_features['HalfBath']) +\n",
    "                                   num_features['BsmtFullBath'] + (0.5 * num_features['BsmtHalfBath']))\n",
    "    num_features['has2ndfloor'] = num_features['2ndFlrSF'].apply(lambda x: 1 if x > 0 else 0)\n",
    "    num_features['hasbsmt'] = num_features['TotalBsmtSF'].apply(lambda x: 1 if x > 0 else 0)\n",
    "    num_features['hasfireplace'] = num_features['Fireplaces'].apply(lambda x: 1 if x > 0 else 0)\n",
    "    \n",
    "    # outdoor features (binary)\n",
    "    num_features['haspool'] = num_features['PoolArea'].apply(lambda x: 1 if x > 0 else 0)\n",
    "    num_features['HasWoodDeck'] = (num_features['WoodDeckSF'] == 0) * 1\n",
    "    num_features['HasOpenPorch'] = (num_features['OpenPorchSF'] == 0) * 1\n",
    "    num_features['HasEnclosedPorch'] = (num_features['EnclosedPorch'] == 0) * 1\n",
    "    num_features['Has3SsnPorch'] = (num_features['3SsnPorch'] == 0) * 1\n",
    "    num_features['HasScreenPorch'] = (num_features['ScreenPorch'] == 0) * 1\n",
    "    num_features['hasgarage'] = num_features['GarageArea'].apply(lambda x: 1 if x > 0 else 0)\n",
    "    num_features['Total_porch_sf'] = (num_features['OpenPorchSF'] + num_features['3SsnPorch'] +\n",
    "                                  num_features['EnclosedPorch'] + num_features['ScreenPorch'] +\n",
    "                                  num_features['WoodDeckSF'])\n",
    "    # quality\n",
    "    num_features['Total_Home_Quality'] = num_features['OverallQual'] + num_features['OverallCond']\n",
    "    \n",
    "    # year    \n",
    "    num_features['YearsSinceRemodel'] = num_features['YrSold'].astype(int) - num_features['YearRemodAdd'].astype(int)\n",
    "    num_features['YearBuilt'] = num_features['YrSold'].astype(int) - num_features['YearBuilt'].astype(int)\n",
    "    \n",
    "    '''\n",
    "    num_features['TotalBsmtSF'] = num_features['TotalBsmtSF'].apply(lambda x: np.exp(6) if x <= 0.0 else x)\n",
    "    num_features['2ndFlrSF'] = num_features['2ndFlrSF'].apply(lambda x: np.exp(6.5) if x <= 0.0 else x)\n",
    "    num_features['GarageArea'] = num_features['GarageArea'].apply(lambda x: np.exp(6) if x <= 0.0 else x)\n",
    "    num_features['GarageCars'] = num_features['GarageCars'].apply(lambda x: 0 if x <= 0.0 else x)\n",
    "    num_features['LotFrontage'] = num_features['LotFrontage'].apply(lambda x: np.exp(4.2) if x <= 0.0 else x)\n",
    "    num_features['MasVnrArea'] = num_features['MasVnrArea'].apply(lambda x: np.exp(4) if x <= 0.0 else x)\n",
    "    num_features['BsmtFinSF1'] = num_features['BsmtFinSF1'].apply(lambda x: np.exp(6.5) if x <= 0.0 else x)\n",
    "    '''\n",
    "    return num_features"
   ]
  },
  {
   "cell_type": "code",
   "execution_count": 24,
   "id": "5c206dc2",
   "metadata": {
    "execution": {
     "iopub.execute_input": "2023-03-03T04:54:39.264691Z",
     "iopub.status.busy": "2023-03-03T04:54:39.264369Z",
     "iopub.status.idle": "2023-03-03T04:54:39.297632Z",
     "shell.execute_reply": "2023-03-03T04:54:39.296180Z"
    },
    "papermill": {
     "duration": 0.058138,
     "end_time": "2023-03-03T04:54:39.300130",
     "exception": false,
     "start_time": "2023-03-03T04:54:39.241992",
     "status": "completed"
    },
    "tags": []
   },
   "outputs": [],
   "source": [
    "train = num_feature_engineering_pipeline(train)\n",
    "test = num_feature_engineering_pipeline(test)"
   ]
  },
  {
   "cell_type": "markdown",
   "id": "31856815",
   "metadata": {
    "papermill": {
     "duration": 0.020593,
     "end_time": "2023-03-03T04:54:39.340842",
     "exception": false,
     "start_time": "2023-03-03T04:54:39.320249",
     "status": "completed"
    },
    "tags": []
   },
   "source": [
    "#### Normalize features\n",
    "\n",
    "Important for any kind of linear model. As we will be ensembling models later, this become an essential preprocessing step to do. <br>\n",
    "**Note**: \n",
    "1. features to be normalized should be modelled by training data only without involving test data at all. \n",
    "2. it is essential to make sure consistent transformation happen across training data and test data. If columns ['a','b','c'] are normalized in training data, the same columns are to be normalized in test data regardless how its distribution. \n",
    "\n",
    "Steps:\n",
    "1. Normalize target features\n",
    "2. Normalize all other features (usually use box-cox transformation of `scipy` package"
   ]
  },
  {
   "cell_type": "markdown",
   "id": "e20eb269",
   "metadata": {
    "papermill": {
     "duration": 0.019859,
     "end_time": "2023-03-03T04:54:39.380826",
     "exception": false,
     "start_time": "2023-03-03T04:54:39.360967",
     "status": "completed"
    },
    "tags": []
   },
   "source": [
    "#### Normalize target features\n",
    "\n",
    "If target features are highlt skewed, apply normalization method. "
   ]
  },
  {
   "cell_type": "code",
   "execution_count": 25,
   "id": "a3f87e91",
   "metadata": {
    "execution": {
     "iopub.execute_input": "2023-03-03T04:54:39.422428Z",
     "iopub.status.busy": "2023-03-03T04:54:39.421902Z",
     "iopub.status.idle": "2023-03-03T04:54:39.693528Z",
     "shell.execute_reply": "2023-03-03T04:54:39.692080Z"
    },
    "papermill": {
     "duration": 0.295521,
     "end_time": "2023-03-03T04:54:39.696196",
     "exception": false,
     "start_time": "2023-03-03T04:54:39.400675",
     "status": "completed"
    },
    "tags": []
   },
   "outputs": [
    {
     "data": {
      "image/png": "[encoded data removed]",
      "text/plain": [
       "<Figure size 576x504 with 1 Axes>"
      ]
     },
     "metadata": {},
     "output_type": "display_data"
    }
   ],
   "source": [
    "sns.set_style(\"white\")\n",
    "sns.set_color_codes(palette='deep')\n",
    "f, ax = plt.subplots(figsize=(8, 7))\n",
    "#Check the new distribution \n",
    "sns.histplot(train['SalePrice'], color=\"b\", kde=True);\n",
    "# set labels\n",
    "ax.set(ylabel=\"Frequency\"); ax.set(xlabel=\"SalePrice\"); ax.set(title=\"SalePrice distribution\")\n",
    "sns.despine(trim=True, left=True)\n",
    "plt.show()"
   ]
  },
  {
   "cell_type": "markdown",
   "id": "692fad4b",
   "metadata": {
    "papermill": {
     "duration": 0.020645,
     "end_time": "2023-03-03T04:54:39.739074",
     "exception": false,
     "start_time": "2023-03-03T04:54:39.718429",
     "status": "completed"
    },
    "tags": []
   },
   "source": [
    "Apparently, the target feature is highly right skewed. So, normalization is applied. "
   ]
  },
  {
   "cell_type": "code",
   "execution_count": 26,
   "id": "9a7d3452",
   "metadata": {
    "execution": {
     "iopub.execute_input": "2023-03-03T04:54:39.782923Z",
     "iopub.status.busy": "2023-03-03T04:54:39.782106Z",
     "iopub.status.idle": "2023-03-03T04:54:39.787371Z",
     "shell.execute_reply": "2023-03-03T04:54:39.786505Z"
    },
    "papermill": {
     "duration": 0.029786,
     "end_time": "2023-03-03T04:54:39.789616",
     "exception": false,
     "start_time": "2023-03-03T04:54:39.759830",
     "status": "completed"
    },
    "tags": []
   },
   "outputs": [],
   "source": [
    "# transform target feature with log1p, i.e. log(x+1) +1 to prevent error caused by log(0)\n",
    "train['log1p_SalePrice'] = np.log1p(train.SalePrice)"
   ]
  },
  {
   "cell_type": "code",
   "execution_count": 27,
   "id": "73e2f95c",
   "metadata": {
    "execution": {
     "iopub.execute_input": "2023-03-03T04:54:39.837328Z",
     "iopub.status.busy": "2023-03-03T04:54:39.836950Z",
     "iopub.status.idle": "2023-03-03T04:54:40.074373Z",
     "shell.execute_reply": "2023-03-03T04:54:40.073417Z"
    },
    "papermill": {
     "duration": 0.265866,
     "end_time": "2023-03-03T04:54:40.076964",
     "exception": false,
     "start_time": "2023-03-03T04:54:39.811098",
     "status": "completed"
    },
    "tags": []
   },
   "outputs": [
    {
     "data": {
      "image/png": "[encoded data removed]",
      "text/plain": [
       "<Figure size 576x504 with 1 Axes>"
      ]
     },
     "metadata": {},
     "output_type": "display_data"
    }
   ],
   "source": [
    "# vsualise transformed target feature\n",
    "sns.set_style(\"white\")\n",
    "sns.set_color_codes(palette='deep')\n",
    "f, ax = plt.subplots(figsize=(8, 7))\n",
    "#Check the new distribution \n",
    "sns.histplot(train['log1p_SalePrice'], color=\"b\", kde=True);\n",
    "# set labels\n",
    "ax.set(ylabel=\"Frequency\"); ax.set(xlabel=\"log1p_SalePrice\"); ax.set(title=\"SalePrice distribution\")\n",
    "sns.despine(trim=True, left=True)\n",
    "plt.show()"
   ]
  },
  {
   "cell_type": "markdown",
   "id": "6f49df90",
   "metadata": {
    "papermill": {
     "duration": 0.021527,
     "end_time": "2023-03-03T04:54:40.120186",
     "exception": false,
     "start_time": "2023-03-03T04:54:40.098659",
     "status": "completed"
    },
    "tags": []
   },
   "source": [
    "#### normalize all other features with skewness > 0.75\n",
    "\n",
    "Find out these highly skewed data and apply box-cox transfomation. <br>\n",
    "**Note**: Though I dont know the exact maths, the train and test data needs to be normalized together, else it will return terrible results. "
   ]
  },
  {
   "cell_type": "code",
   "execution_count": 28,
   "id": "66c309d1",
   "metadata": {
    "execution": {
     "iopub.execute_input": "2023-03-03T04:54:40.165193Z",
     "iopub.status.busy": "2023-03-03T04:54:40.164829Z",
     "iopub.status.idle": "2023-03-03T04:54:40.179849Z",
     "shell.execute_reply": "2023-03-03T04:54:40.178914Z"
    },
    "papermill": {
     "duration": 0.040316,
     "end_time": "2023-03-03T04:54:40.181963",
     "exception": false,
     "start_time": "2023-03-03T04:54:40.141647",
     "status": "completed"
    },
    "tags": []
   },
   "outputs": [],
   "source": [
    "# separate features and target\n",
    "X_train = train.drop(['SalePrice','log1p_SalePrice'], axis=1).reset_index(drop=True)\n",
    "y_train = train.loc[:, 'log1p_SalePrice'].reset_index(drop=True)\n",
    "\n",
    "X_test = test.copy()"
   ]
  },
  {
   "cell_type": "code",
   "execution_count": 29,
   "id": "ba406240",
   "metadata": {
    "execution": {
     "iopub.execute_input": "2023-03-03T04:54:40.225084Z",
     "iopub.status.busy": "2023-03-03T04:54:40.224698Z",
     "iopub.status.idle": "2023-03-03T04:54:40.261776Z",
     "shell.execute_reply": "2023-03-03T04:54:40.261015Z"
    },
    "papermill": {
     "duration": 0.061118,
     "end_time": "2023-03-03T04:54:40.263828",
     "exception": false,
     "start_time": "2023-03-03T04:54:40.202710",
     "status": "completed"
    },
    "tags": []
   },
   "outputs": [
    {
     "data": {
      "text/html": [
       "<div>\n",
       "<style scoped>\n",
       "    .dataframe tbody tr th:only-of-type {\n",
       "        vertical-align: middle;\n",
       "    }\n",
       "\n",
       "    .dataframe tbody tr th {\n",
       "        vertical-align: top;\n",
       "    }\n",
       "\n",
       "    .dataframe thead th {\n",
       "        text-align: right;\n",
       "    }\n",
       "</style>\n",
       "<table border=\"1\" class=\"dataframe\">\n",
       "  <thead>\n",
       "    <tr style=\"text-align: right;\">\n",
       "      <th></th>\n",
       "      <th>Id</th>\n",
       "      <th>MSSubClass</th>\n",
       "      <th>MSZoning</th>\n",
       "      <th>LotFrontage</th>\n",
       "      <th>LotArea</th>\n",
       "      <th>Street</th>\n",
       "      <th>LotShape</th>\n",
       "      <th>LandContour</th>\n",
       "      <th>Utilities</th>\n",
       "      <th>LotConfig</th>\n",
       "      <th>...</th>\n",
       "      <th>haspool</th>\n",
       "      <th>HasWoodDeck</th>\n",
       "      <th>HasOpenPorch</th>\n",
       "      <th>HasEnclosedPorch</th>\n",
       "      <th>Has3SsnPorch</th>\n",
       "      <th>HasScreenPorch</th>\n",
       "      <th>hasgarage</th>\n",
       "      <th>Total_porch_sf</th>\n",
       "      <th>Total_Home_Quality</th>\n",
       "      <th>YearsSinceRemodel</th>\n",
       "    </tr>\n",
       "  </thead>\n",
       "  <tbody>\n",
       "    <tr>\n",
       "      <th>0</th>\n",
       "      <td>1</td>\n",
       "      <td>60</td>\n",
       "      <td>RL</td>\n",
       "      <td>65.0</td>\n",
       "      <td>8450</td>\n",
       "      <td>Pave</td>\n",
       "      <td>Reg</td>\n",
       "      <td>Lvl</td>\n",
       "      <td>AllPub</td>\n",
       "      <td>Inside</td>\n",
       "      <td>...</td>\n",
       "      <td>0</td>\n",
       "      <td>1</td>\n",
       "      <td>0</td>\n",
       "      <td>1</td>\n",
       "      <td>1</td>\n",
       "      <td>1</td>\n",
       "      <td>1</td>\n",
       "      <td>61</td>\n",
       "      <td>12</td>\n",
       "      <td>5</td>\n",
       "    </tr>\n",
       "    <tr>\n",
       "      <th>1</th>\n",
       "      <td>2</td>\n",
       "      <td>20</td>\n",
       "      <td>RL</td>\n",
       "      <td>80.0</td>\n",
       "      <td>9600</td>\n",
       "      <td>Pave</td>\n",
       "      <td>Reg</td>\n",
       "      <td>Lvl</td>\n",
       "      <td>AllPub</td>\n",
       "      <td>FR2</td>\n",
       "      <td>...</td>\n",
       "      <td>0</td>\n",
       "      <td>0</td>\n",
       "      <td>1</td>\n",
       "      <td>1</td>\n",
       "      <td>1</td>\n",
       "      <td>1</td>\n",
       "      <td>1</td>\n",
       "      <td>298</td>\n",
       "      <td>14</td>\n",
       "      <td>31</td>\n",
       "    </tr>\n",
       "    <tr>\n",
       "      <th>2</th>\n",
       "      <td>3</td>\n",
       "      <td>60</td>\n",
       "      <td>RL</td>\n",
       "      <td>68.0</td>\n",
       "      <td>11250</td>\n",
       "      <td>Pave</td>\n",
       "      <td>IR1</td>\n",
       "      <td>Lvl</td>\n",
       "      <td>AllPub</td>\n",
       "      <td>Inside</td>\n",
       "      <td>...</td>\n",
       "      <td>0</td>\n",
       "      <td>1</td>\n",
       "      <td>0</td>\n",
       "      <td>1</td>\n",
       "      <td>1</td>\n",
       "      <td>1</td>\n",
       "      <td>1</td>\n",
       "      <td>42</td>\n",
       "      <td>12</td>\n",
       "      <td>6</td>\n",
       "    </tr>\n",
       "    <tr>\n",
       "      <th>3</th>\n",
       "      <td>4</td>\n",
       "      <td>70</td>\n",
       "      <td>RL</td>\n",
       "      <td>60.0</td>\n",
       "      <td>9550</td>\n",
       "      <td>Pave</td>\n",
       "      <td>IR1</td>\n",
       "      <td>Lvl</td>\n",
       "      <td>AllPub</td>\n",
       "      <td>Corner</td>\n",
       "      <td>...</td>\n",
       "      <td>0</td>\n",
       "      <td>1</td>\n",
       "      <td>0</td>\n",
       "      <td>0</td>\n",
       "      <td>1</td>\n",
       "      <td>1</td>\n",
       "      <td>1</td>\n",
       "      <td>307</td>\n",
       "      <td>12</td>\n",
       "      <td>36</td>\n",
       "    </tr>\n",
       "    <tr>\n",
       "      <th>4</th>\n",
       "      <td>5</td>\n",
       "      <td>60</td>\n",
       "      <td>RL</td>\n",
       "      <td>84.0</td>\n",
       "      <td>14260</td>\n",
       "      <td>Pave</td>\n",
       "      <td>IR1</td>\n",
       "      <td>Lvl</td>\n",
       "      <td>AllPub</td>\n",
       "      <td>FR2</td>\n",
       "      <td>...</td>\n",
       "      <td>0</td>\n",
       "      <td>0</td>\n",
       "      <td>0</td>\n",
       "      <td>1</td>\n",
       "      <td>1</td>\n",
       "      <td>1</td>\n",
       "      <td>1</td>\n",
       "      <td>276</td>\n",
       "      <td>13</td>\n",
       "      <td>8</td>\n",
       "    </tr>\n",
       "    <tr>\n",
       "      <th>...</th>\n",
       "      <td>...</td>\n",
       "      <td>...</td>\n",
       "      <td>...</td>\n",
       "      <td>...</td>\n",
       "      <td>...</td>\n",
       "      <td>...</td>\n",
       "      <td>...</td>\n",
       "      <td>...</td>\n",
       "      <td>...</td>\n",
       "      <td>...</td>\n",
       "      <td>...</td>\n",
       "      <td>...</td>\n",
       "      <td>...</td>\n",
       "      <td>...</td>\n",
       "      <td>...</td>\n",
       "      <td>...</td>\n",
       "      <td>...</td>\n",
       "      <td>...</td>\n",
       "      <td>...</td>\n",
       "      <td>...</td>\n",
       "      <td>...</td>\n",
       "    </tr>\n",
       "    <tr>\n",
       "      <th>1454</th>\n",
       "      <td>2915</td>\n",
       "      <td>160</td>\n",
       "      <td>RM</td>\n",
       "      <td>21.0</td>\n",
       "      <td>1936</td>\n",
       "      <td>Pave</td>\n",
       "      <td>Reg</td>\n",
       "      <td>Lvl</td>\n",
       "      <td>AllPub</td>\n",
       "      <td>Inside</td>\n",
       "      <td>...</td>\n",
       "      <td>0</td>\n",
       "      <td>1</td>\n",
       "      <td>1</td>\n",
       "      <td>1</td>\n",
       "      <td>1</td>\n",
       "      <td>1</td>\n",
       "      <td>0</td>\n",
       "      <td>0</td>\n",
       "      <td>11</td>\n",
       "      <td>36</td>\n",
       "    </tr>\n",
       "    <tr>\n",
       "      <th>1455</th>\n",
       "      <td>2916</td>\n",
       "      <td>160</td>\n",
       "      <td>RM</td>\n",
       "      <td>21.0</td>\n",
       "      <td>1894</td>\n",
       "      <td>Pave</td>\n",
       "      <td>Reg</td>\n",
       "      <td>Lvl</td>\n",
       "      <td>AllPub</td>\n",
       "      <td>Inside</td>\n",
       "      <td>...</td>\n",
       "      <td>0</td>\n",
       "      <td>1</td>\n",
       "      <td>0</td>\n",
       "      <td>1</td>\n",
       "      <td>1</td>\n",
       "      <td>1</td>\n",
       "      <td>1</td>\n",
       "      <td>24</td>\n",
       "      <td>9</td>\n",
       "      <td>36</td>\n",
       "    </tr>\n",
       "    <tr>\n",
       "      <th>1456</th>\n",
       "      <td>2917</td>\n",
       "      <td>20</td>\n",
       "      <td>RL</td>\n",
       "      <td>160.0</td>\n",
       "      <td>20000</td>\n",
       "      <td>Pave</td>\n",
       "      <td>Reg</td>\n",
       "      <td>Lvl</td>\n",
       "      <td>AllPub</td>\n",
       "      <td>Inside</td>\n",
       "      <td>...</td>\n",
       "      <td>0</td>\n",
       "      <td>0</td>\n",
       "      <td>1</td>\n",
       "      <td>1</td>\n",
       "      <td>1</td>\n",
       "      <td>1</td>\n",
       "      <td>1</td>\n",
       "      <td>474</td>\n",
       "      <td>12</td>\n",
       "      <td>10</td>\n",
       "    </tr>\n",
       "    <tr>\n",
       "      <th>1457</th>\n",
       "      <td>2918</td>\n",
       "      <td>85</td>\n",
       "      <td>RL</td>\n",
       "      <td>62.0</td>\n",
       "      <td>10441</td>\n",
       "      <td>Pave</td>\n",
       "      <td>Reg</td>\n",
       "      <td>Lvl</td>\n",
       "      <td>AllPub</td>\n",
       "      <td>Inside</td>\n",
       "      <td>...</td>\n",
       "      <td>0</td>\n",
       "      <td>0</td>\n",
       "      <td>0</td>\n",
       "      <td>1</td>\n",
       "      <td>1</td>\n",
       "      <td>1</td>\n",
       "      <td>0</td>\n",
       "      <td>112</td>\n",
       "      <td>10</td>\n",
       "      <td>14</td>\n",
       "    </tr>\n",
       "    <tr>\n",
       "      <th>1458</th>\n",
       "      <td>2919</td>\n",
       "      <td>60</td>\n",
       "      <td>RL</td>\n",
       "      <td>74.0</td>\n",
       "      <td>9627</td>\n",
       "      <td>Pave</td>\n",
       "      <td>Reg</td>\n",
       "      <td>Lvl</td>\n",
       "      <td>AllPub</td>\n",
       "      <td>Inside</td>\n",
       "      <td>...</td>\n",
       "      <td>0</td>\n",
       "      <td>0</td>\n",
       "      <td>0</td>\n",
       "      <td>1</td>\n",
       "      <td>1</td>\n",
       "      <td>1</td>\n",
       "      <td>1</td>\n",
       "      <td>238</td>\n",
       "      <td>12</td>\n",
       "      <td>12</td>\n",
       "    </tr>\n",
       "  </tbody>\n",
       "</table>\n",
       "<p>2917 rows × 101 columns</p>\n",
       "</div>"
      ],
      "text/plain": [
       "        Id MSSubClass MSZoning  LotFrontage  LotArea Street LotShape  \\\n",
       "0        1         60       RL         65.0     8450   Pave      Reg   \n",
       "1        2         20       RL         80.0     9600   Pave      Reg   \n",
       "2        3         60       RL         68.0    11250   Pave      IR1   \n",
       "3        4         70       RL         60.0     9550   Pave      IR1   \n",
       "4        5         60       RL         84.0    14260   Pave      IR1   \n",
       "...    ...        ...      ...          ...      ...    ...      ...   \n",
       "1454  2915        160       RM         21.0     1936   Pave      Reg   \n",
       "1455  2916        160       RM         21.0     1894   Pave      Reg   \n",
       "1456  2917         20       RL        160.0    20000   Pave      Reg   \n",
       "1457  2918         85       RL         62.0    10441   Pave      Reg   \n",
       "1458  2919         60       RL         74.0     9627   Pave      Reg   \n",
       "\n",
       "     LandContour Utilities LotConfig  ... haspool HasWoodDeck HasOpenPorch  \\\n",
       "0            Lvl    AllPub    Inside  ...       0           1            0   \n",
       "1            Lvl    AllPub       FR2  ...       0           0            1   \n",
       "2            Lvl    AllPub    Inside  ...       0           1            0   \n",
       "3            Lvl    AllPub    Corner  ...       0           1            0   \n",
       "4            Lvl    AllPub       FR2  ...       0           0            0   \n",
       "...          ...       ...       ...  ...     ...         ...          ...   \n",
       "1454         Lvl    AllPub    Inside  ...       0           1            1   \n",
       "1455         Lvl    AllPub    Inside  ...       0           1            0   \n",
       "1456         Lvl    AllPub    Inside  ...       0           0            1   \n",
       "1457         Lvl    AllPub    Inside  ...       0           0            0   \n",
       "1458         Lvl    AllPub    Inside  ...       0           0            0   \n",
       "\n",
       "     HasEnclosedPorch Has3SsnPorch HasScreenPorch  hasgarage  Total_porch_sf  \\\n",
       "0                   1            1              1          1              61   \n",
       "1                   1            1              1          1             298   \n",
       "2                   1            1              1          1              42   \n",
       "3                   0            1              1          1             307   \n",
       "4                   1            1              1          1             276   \n",
       "...               ...          ...            ...        ...             ...   \n",
       "1454                1            1              1          0               0   \n",
       "1455                1            1              1          1              24   \n",
       "1456                1            1              1          1             474   \n",
       "1457                1            1              1          0             112   \n",
       "1458                1            1              1          1             238   \n",
       "\n",
       "      Total_Home_Quality YearsSinceRemodel  \n",
       "0                     12                 5  \n",
       "1                     14                31  \n",
       "2                     12                 6  \n",
       "3                     12                36  \n",
       "4                     13                 8  \n",
       "...                  ...               ...  \n",
       "1454                  11                36  \n",
       "1455                   9                36  \n",
       "1456                  12                10  \n",
       "1457                  10                14  \n",
       "1458                  12                12  \n",
       "\n",
       "[2917 rows x 101 columns]"
      ]
     },
     "execution_count": 29,
     "metadata": {},
     "output_type": "execute_result"
    }
   ],
   "source": [
    "all_data = pd.concat([X_train, X_test], axis=0)\n",
    "all_data"
   ]
  },
  {
   "cell_type": "code",
   "execution_count": 30,
   "id": "aff262cc",
   "metadata": {
    "execution": {
     "iopub.execute_input": "2023-03-03T04:54:40.309079Z",
     "iopub.status.busy": "2023-03-03T04:54:40.308689Z",
     "iopub.status.idle": "2023-03-03T04:54:40.336822Z",
     "shell.execute_reply": "2023-03-03T04:54:40.334984Z"
    },
    "papermill": {
     "duration": 0.054893,
     "end_time": "2023-03-03T04:54:40.340340",
     "exception": false,
     "start_time": "2023-03-03T04:54:40.285447",
     "status": "completed"
    },
    "tags": []
   },
   "outputs": [
    {
     "name": "stdout",
     "output_type": "stream",
     "text": [
      "There are 24 skewed numerical features to Box Cox transform\n"
     ]
    }
   ],
   "source": [
    "# handling skewness in other features\n",
    "# code from SERIGNE\n",
    "from scipy.stats import skew\n",
    "from scipy.stats.stats import pearsonr\n",
    "\n",
    "# combine to apply transformation to both train and test data separately\n",
    "\n",
    "# Check the skew of all numerical features\n",
    "all_trained_skewed_feats = all_data.select_dtypes(exclude='object').apply(lambda x: skew(x.dropna())).sort_values(ascending=False)\n",
    "trained_skewed_feats = all_trained_skewed_feats[all_trained_skewed_feats > 0.75]\n",
    "print(\"There are {} skewed numerical features to Box Cox transform\".format(trained_skewed_feats.shape[0]))"
   ]
  },
  {
   "cell_type": "markdown",
   "id": "5b40144b",
   "metadata": {
    "papermill": {
     "duration": 0.021762,
     "end_time": "2023-03-03T04:54:40.385461",
     "exception": false,
     "start_time": "2023-03-03T04:54:40.363699",
     "status": "completed"
    },
    "tags": []
   },
   "source": [
    "Apply box-ccox transformation. <br>\n",
    "\n",
    "I tried to comment out the box-cox transformation, realise that the performance becomes much worse. So it is absolutely needed. "
   ]
  },
  {
   "cell_type": "code",
   "execution_count": 31,
   "id": "2af4c7ae",
   "metadata": {
    "execution": {
     "iopub.execute_input": "2023-03-03T04:54:40.430615Z",
     "iopub.status.busy": "2023-03-03T04:54:40.430236Z",
     "iopub.status.idle": "2023-03-03T04:54:40.576631Z",
     "shell.execute_reply": "2023-03-03T04:54:40.575274Z"
    },
    "papermill": {
     "duration": 0.171866,
     "end_time": "2023-03-03T04:54:40.579252",
     "exception": false,
     "start_time": "2023-03-03T04:54:40.407386",
     "status": "completed"
    },
    "tags": []
   },
   "outputs": [
    {
     "name": "stderr",
     "output_type": "stream",
     "text": [
      "/opt/conda/lib/python3.7/site-packages/scipy/stats/stats.py:4023: PearsonRConstantInputWarning: An input array is constant; the correlation coefficient is not defined.\n",
      "  warnings.warn(PearsonRConstantInputWarning())\n",
      "/opt/conda/lib/python3.7/site-packages/scipy/stats/stats.py:4053: PearsonRNearConstantInputWarning: An input array is nearly constant; the computed correlation coefficient may be inaccurate.\n",
      "  warnings.warn(PearsonRNearConstantInputWarning())\n"
     ]
    }
   ],
   "source": [
    "from scipy.special import boxcox1p\n",
    "from scipy.stats import boxcox_normmax\n",
    "skewed_features = trained_skewed_feats.index\n",
    "lambda_ = 0.15 # how to determine suitable lambda for box-cox transformaton?\n",
    "for feat in skewed_features:\n",
    "    lambda_ = boxcox_normmax(all_data[feat] + 1)\n",
    "    all_data[feat] = boxcox1p(all_data[feat], lambda_)"
   ]
  },
  {
   "cell_type": "code",
   "execution_count": 32,
   "id": "6779b308",
   "metadata": {
    "execution": {
     "iopub.execute_input": "2023-03-03T04:54:40.624665Z",
     "iopub.status.busy": "2023-03-03T04:54:40.624313Z",
     "iopub.status.idle": "2023-03-03T04:54:40.649370Z",
     "shell.execute_reply": "2023-03-03T04:54:40.648470Z"
    },
    "papermill": {
     "duration": 0.049777,
     "end_time": "2023-03-03T04:54:40.651118",
     "exception": false,
     "start_time": "2023-03-03T04:54:40.601341",
     "status": "completed"
    },
    "tags": []
   },
   "outputs": [
    {
     "name": "stdout",
     "output_type": "stream",
     "text": [
      "25 features still have skewness > 0.75.\n"
     ]
    },
    {
     "data": {
      "text/plain": [
       "MiscVal                   24.434913\n",
       "PoolArea                  15.932532\n",
       "haspool                   15.492067\n",
       "LotArea                   12.560986\n",
       "3SsnPorch                 10.286510\n",
       "LowQualFinSF               8.995688\n",
       "KitchenAbvGr               4.480268\n",
       "BsmtFinSF2                 4.247550\n",
       "ScreenPorch                4.114690\n",
       "BsmtHalfBath               4.095895\n",
       "EnclosedPorch              3.083987\n",
       "MasVnrArea                 2.692313\n",
       "OpenPorchSF                2.337421\n",
       "SalePrice                  1.879360\n",
       "LotFrontage                1.692976\n",
       "WoodDeckSF                 1.544214\n",
       "Total_porch_sf             1.103269\n",
       "Total_sqr_footage          1.019762\n",
       "GrLivArea                  1.009951\n",
       "BsmtUnfSF                  0.919955\n",
       "1stFlrSF                   0.886723\n",
       "2ndFlrSF                   0.812121\n",
       "Neighborhood_median_SF     0.808409\n",
       "TotalSF                    0.803494\n",
       "BsmtFinSF1                 0.764002\n",
       "dtype: float64"
      ]
     },
     "execution_count": 32,
     "metadata": {},
     "output_type": "execute_result"
    }
   ],
   "source": [
    "skewness_after_boxcox = train.select_dtypes(exclude='object').apply(lambda x: skew(x.dropna())).sort_values(ascending=False)\n",
    "still_big_skewness = skewness_after_boxcox[skewness_after_boxcox > 0.75]\n",
    "\n",
    "print(f'{len(still_big_skewness)} features still have skewness > 0.75.')\n",
    "still_big_skewness # just leave them be"
   ]
  },
  {
   "cell_type": "code",
   "execution_count": 33,
   "id": "793b2f8f",
   "metadata": {
    "execution": {
     "iopub.execute_input": "2023-03-03T04:54:40.697408Z",
     "iopub.status.busy": "2023-03-03T04:54:40.696729Z",
     "iopub.status.idle": "2023-03-03T04:54:40.721897Z",
     "shell.execute_reply": "2023-03-03T04:54:40.720437Z"
    },
    "papermill": {
     "duration": 0.051519,
     "end_time": "2023-03-03T04:54:40.724220",
     "exception": false,
     "start_time": "2023-03-03T04:54:40.672701",
     "status": "completed"
    },
    "tags": []
   },
   "outputs": [
    {
     "data": {
      "text/plain": [
       "Series([], dtype: int64)"
      ]
     },
     "execution_count": 33,
     "metadata": {},
     "output_type": "execute_result"
    }
   ],
   "source": [
    "# if input feature is constant or negative or too close to 0, \n",
    "# the transformation might return null values sometimes, \n",
    "# so check and decides to drop feature from transformation or impute\n",
    "all_data.isnull().sum()[all_data.isnull().sum() > 0]"
   ]
  },
  {
   "cell_type": "markdown",
   "id": "0de530d2",
   "metadata": {
    "execution": {
     "iopub.execute_input": "2022-12-14T08:25:12.308452Z",
     "iopub.status.busy": "2022-12-14T08:25:12.307818Z",
     "iopub.status.idle": "2022-12-14T08:25:12.317038Z",
     "shell.execute_reply": "2022-12-14T08:25:12.316024Z",
     "shell.execute_reply.started": "2022-12-14T08:25:12.308418Z"
    },
    "papermill": {
     "duration": 0.022236,
     "end_time": "2023-03-03T04:54:40.768706",
     "exception": false,
     "start_time": "2023-03-03T04:54:40.746470",
     "status": "completed"
    },
    "tags": []
   },
   "source": [
    "#### encoding data\n",
    "\n",
    "Establish two encoding pipelines. <br>\n",
    "- For tree-based models, use `LabelEncoding`. <br>\n",
    "- For linear models, use `BinaryEncoding`.\n",
    "\n",
    "for all preprocessing including encoding, train and test are supposed to be separated. But I am lazy to do the transformation at the moment because there are some inconsistencies in train and test data. Will fix this later. "
   ]
  },
  {
   "cell_type": "code",
   "execution_count": 34,
   "id": "1283e1f9",
   "metadata": {
    "execution": {
     "iopub.execute_input": "2023-03-03T04:54:40.813648Z",
     "iopub.status.busy": "2023-03-03T04:54:40.813323Z",
     "iopub.status.idle": "2023-03-03T04:54:40.826656Z",
     "shell.execute_reply": "2023-03-03T04:54:40.825882Z"
    },
    "papermill": {
     "duration": 0.038078,
     "end_time": "2023-03-03T04:54:40.828688",
     "exception": false,
     "start_time": "2023-03-03T04:54:40.790610",
     "status": "completed"
    },
    "tags": []
   },
   "outputs": [],
   "source": [
    "# converting these features back to int before label encoding\n",
    "all_data.loc[:, ['YearBuilt','YearRemodAdd', 'MoSold', 'YrSold', 'Id']] = all_data.loc[:, ['YearBuilt','YearRemodAdd', 'MoSold', 'YrSold', 'Id']].astype(int)"
   ]
  },
  {
   "cell_type": "code",
   "execution_count": 35,
   "id": "07d8f5c9",
   "metadata": {
    "execution": {
     "iopub.execute_input": "2023-03-03T04:54:40.873782Z",
     "iopub.status.busy": "2023-03-03T04:54:40.873255Z",
     "iopub.status.idle": "2023-03-03T04:54:40.880522Z",
     "shell.execute_reply": "2023-03-03T04:54:40.879907Z"
    },
    "papermill": {
     "duration": 0.032149,
     "end_time": "2023-03-03T04:54:40.882350",
     "exception": false,
     "start_time": "2023-03-03T04:54:40.850201",
     "status": "completed"
    },
    "tags": []
   },
   "outputs": [],
   "source": [
    "all_data_tree = all_data.copy()\n",
    "all_data_linear = all_data.copy()"
   ]
  },
  {
   "cell_type": "code",
   "execution_count": 36,
   "id": "09d0f73f",
   "metadata": {
    "execution": {
     "iopub.execute_input": "2023-03-03T04:54:40.927334Z",
     "iopub.status.busy": "2023-03-03T04:54:40.926879Z",
     "iopub.status.idle": "2023-03-03T04:54:41.007340Z",
     "shell.execute_reply": "2023-03-03T04:54:41.006189Z"
    },
    "papermill": {
     "duration": 0.105701,
     "end_time": "2023-03-03T04:54:41.009684",
     "exception": false,
     "start_time": "2023-03-03T04:54:40.903983",
     "status": "completed"
    },
    "tags": []
   },
   "outputs": [],
   "source": [
    "# for baseline, just labelencode whole thing\n",
    "from sklearn.preprocessing import LabelEncoder\n",
    "le = LabelEncoder()\n",
    "\n",
    "for i in all_data.select_dtypes('object').columns:\n",
    "    le.fit(all_data.loc[:, i].values)\n",
    "    all_data_tree.loc[:, i] =le.transform(all_data_tree.loc[:, i])"
   ]
  },
  {
   "cell_type": "code",
   "execution_count": 37,
   "id": "0f649385",
   "metadata": {
    "execution": {
     "iopub.execute_input": "2023-03-03T04:54:41.056936Z",
     "iopub.status.busy": "2023-03-03T04:54:41.056368Z",
     "iopub.status.idle": "2023-03-03T04:54:41.920685Z",
     "shell.execute_reply": "2023-03-03T04:54:41.919729Z"
    },
    "papermill": {
     "duration": 0.890857,
     "end_time": "2023-03-03T04:54:41.923144",
     "exception": false,
     "start_time": "2023-03-03T04:54:41.032287",
     "status": "completed"
    },
    "tags": []
   },
   "outputs": [],
   "source": [
    "# binary encode for linear models\n",
    "from category_encoders.binary import BinaryEncoder\n",
    "be = BinaryEncoder()\n",
    "\n",
    "all_data_linear = be.fit_transform(all_data_linear)"
   ]
  },
  {
   "cell_type": "code",
   "execution_count": 38,
   "id": "6e31e1f9",
   "metadata": {
    "execution": {
     "iopub.execute_input": "2023-03-03T04:54:41.970232Z",
     "iopub.status.busy": "2023-03-03T04:54:41.969840Z",
     "iopub.status.idle": "2023-03-03T04:54:41.994255Z",
     "shell.execute_reply": "2023-03-03T04:54:41.992908Z"
    },
    "papermill": {
     "duration": 0.050561,
     "end_time": "2023-03-03T04:54:41.996289",
     "exception": false,
     "start_time": "2023-03-03T04:54:41.945728",
     "status": "completed"
    },
    "tags": []
   },
   "outputs": [
    {
     "data": {
      "text/html": [
       "<div>\n",
       "<style scoped>\n",
       "    .dataframe tbody tr th:only-of-type {\n",
       "        vertical-align: middle;\n",
       "    }\n",
       "\n",
       "    .dataframe tbody tr th {\n",
       "        vertical-align: top;\n",
       "    }\n",
       "\n",
       "    .dataframe thead th {\n",
       "        text-align: right;\n",
       "    }\n",
       "</style>\n",
       "<table border=\"1\" class=\"dataframe\">\n",
       "  <thead>\n",
       "    <tr style=\"text-align: right;\">\n",
       "      <th></th>\n",
       "      <th>Id</th>\n",
       "      <th>MSSubClass_0</th>\n",
       "      <th>MSSubClass_1</th>\n",
       "      <th>MSSubClass_2</th>\n",
       "      <th>MSSubClass_3</th>\n",
       "      <th>MSSubClass_4</th>\n",
       "      <th>MSZoning_0</th>\n",
       "      <th>MSZoning_1</th>\n",
       "      <th>MSZoning_2</th>\n",
       "      <th>LotFrontage</th>\n",
       "      <th>...</th>\n",
       "      <th>haspool</th>\n",
       "      <th>HasWoodDeck</th>\n",
       "      <th>HasOpenPorch</th>\n",
       "      <th>HasEnclosedPorch</th>\n",
       "      <th>Has3SsnPorch</th>\n",
       "      <th>HasScreenPorch</th>\n",
       "      <th>hasgarage</th>\n",
       "      <th>Total_porch_sf</th>\n",
       "      <th>Total_Home_Quality</th>\n",
       "      <th>YearsSinceRemodel</th>\n",
       "    </tr>\n",
       "  </thead>\n",
       "  <tbody>\n",
       "    <tr>\n",
       "      <th>0</th>\n",
       "      <td>1</td>\n",
       "      <td>0</td>\n",
       "      <td>0</td>\n",
       "      <td>0</td>\n",
       "      <td>0</td>\n",
       "      <td>1</td>\n",
       "      <td>0</td>\n",
       "      <td>0</td>\n",
       "      <td>1</td>\n",
       "      <td>17.139553</td>\n",
       "      <td>...</td>\n",
       "      <td>0.0</td>\n",
       "      <td>1</td>\n",
       "      <td>0</td>\n",
       "      <td>1</td>\n",
       "      <td>1</td>\n",
       "      <td>1</td>\n",
       "      <td>1</td>\n",
       "      <td>18.736118</td>\n",
       "      <td>12</td>\n",
       "      <td>5</td>\n",
       "    </tr>\n",
       "    <tr>\n",
       "      <th>1</th>\n",
       "      <td>2</td>\n",
       "      <td>0</td>\n",
       "      <td>0</td>\n",
       "      <td>0</td>\n",
       "      <td>1</td>\n",
       "      <td>0</td>\n",
       "      <td>0</td>\n",
       "      <td>0</td>\n",
       "      <td>1</td>\n",
       "      <td>19.461575</td>\n",
       "      <td>...</td>\n",
       "      <td>0.0</td>\n",
       "      <td>0</td>\n",
       "      <td>1</td>\n",
       "      <td>1</td>\n",
       "      <td>1</td>\n",
       "      <td>1</td>\n",
       "      <td>1</td>\n",
       "      <td>51.635462</td>\n",
       "      <td>14</td>\n",
       "      <td>31</td>\n",
       "    </tr>\n",
       "    <tr>\n",
       "      <th>2</th>\n",
       "      <td>3</td>\n",
       "      <td>0</td>\n",
       "      <td>0</td>\n",
       "      <td>0</td>\n",
       "      <td>0</td>\n",
       "      <td>1</td>\n",
       "      <td>0</td>\n",
       "      <td>0</td>\n",
       "      <td>1</td>\n",
       "      <td>17.620960</td>\n",
       "      <td>...</td>\n",
       "      <td>0.0</td>\n",
       "      <td>1</td>\n",
       "      <td>0</td>\n",
       "      <td>1</td>\n",
       "      <td>1</td>\n",
       "      <td>1</td>\n",
       "      <td>1</td>\n",
       "      <td>14.654640</td>\n",
       "      <td>12</td>\n",
       "      <td>6</td>\n",
       "    </tr>\n",
       "    <tr>\n",
       "      <th>3</th>\n",
       "      <td>4</td>\n",
       "      <td>0</td>\n",
       "      <td>0</td>\n",
       "      <td>0</td>\n",
       "      <td>1</td>\n",
       "      <td>1</td>\n",
       "      <td>0</td>\n",
       "      <td>0</td>\n",
       "      <td>1</td>\n",
       "      <td>16.315541</td>\n",
       "      <td>...</td>\n",
       "      <td>0.0</td>\n",
       "      <td>1</td>\n",
       "      <td>0</td>\n",
       "      <td>0</td>\n",
       "      <td>1</td>\n",
       "      <td>1</td>\n",
       "      <td>1</td>\n",
       "      <td>52.609466</td>\n",
       "      <td>12</td>\n",
       "      <td>36</td>\n",
       "    </tr>\n",
       "    <tr>\n",
       "      <th>4</th>\n",
       "      <td>5</td>\n",
       "      <td>0</td>\n",
       "      <td>0</td>\n",
       "      <td>0</td>\n",
       "      <td>0</td>\n",
       "      <td>1</td>\n",
       "      <td>0</td>\n",
       "      <td>0</td>\n",
       "      <td>1</td>\n",
       "      <td>20.048332</td>\n",
       "      <td>...</td>\n",
       "      <td>0.0</td>\n",
       "      <td>0</td>\n",
       "      <td>0</td>\n",
       "      <td>1</td>\n",
       "      <td>1</td>\n",
       "      <td>1</td>\n",
       "      <td>1</td>\n",
       "      <td>49.205234</td>\n",
       "      <td>13</td>\n",
       "      <td>8</td>\n",
       "    </tr>\n",
       "    <tr>\n",
       "      <th>...</th>\n",
       "      <td>...</td>\n",
       "      <td>...</td>\n",
       "      <td>...</td>\n",
       "      <td>...</td>\n",
       "      <td>...</td>\n",
       "      <td>...</td>\n",
       "      <td>...</td>\n",
       "      <td>...</td>\n",
       "      <td>...</td>\n",
       "      <td>...</td>\n",
       "      <td>...</td>\n",
       "      <td>...</td>\n",
       "      <td>...</td>\n",
       "      <td>...</td>\n",
       "      <td>...</td>\n",
       "      <td>...</td>\n",
       "      <td>...</td>\n",
       "      <td>...</td>\n",
       "      <td>...</td>\n",
       "      <td>...</td>\n",
       "      <td>...</td>\n",
       "    </tr>\n",
       "    <tr>\n",
       "      <th>1454</th>\n",
       "      <td>2915</td>\n",
       "      <td>0</td>\n",
       "      <td>1</td>\n",
       "      <td>1</td>\n",
       "      <td>0</td>\n",
       "      <td>0</td>\n",
       "      <td>0</td>\n",
       "      <td>1</td>\n",
       "      <td>0</td>\n",
       "      <td>8.389121</td>\n",
       "      <td>...</td>\n",
       "      <td>0.0</td>\n",
       "      <td>1</td>\n",
       "      <td>1</td>\n",
       "      <td>1</td>\n",
       "      <td>1</td>\n",
       "      <td>1</td>\n",
       "      <td>0</td>\n",
       "      <td>0.000000</td>\n",
       "      <td>11</td>\n",
       "      <td>36</td>\n",
       "    </tr>\n",
       "    <tr>\n",
       "      <th>1455</th>\n",
       "      <td>2916</td>\n",
       "      <td>0</td>\n",
       "      <td>1</td>\n",
       "      <td>1</td>\n",
       "      <td>0</td>\n",
       "      <td>0</td>\n",
       "      <td>0</td>\n",
       "      <td>1</td>\n",
       "      <td>0</td>\n",
       "      <td>8.389121</td>\n",
       "      <td>...</td>\n",
       "      <td>0.0</td>\n",
       "      <td>1</td>\n",
       "      <td>0</td>\n",
       "      <td>1</td>\n",
       "      <td>1</td>\n",
       "      <td>1</td>\n",
       "      <td>1</td>\n",
       "      <td>10.059916</td>\n",
       "      <td>9</td>\n",
       "      <td>36</td>\n",
       "    </tr>\n",
       "    <tr>\n",
       "      <th>1456</th>\n",
       "      <td>2917</td>\n",
       "      <td>0</td>\n",
       "      <td>0</td>\n",
       "      <td>0</td>\n",
       "      <td>1</td>\n",
       "      <td>0</td>\n",
       "      <td>0</td>\n",
       "      <td>0</td>\n",
       "      <td>1</td>\n",
       "      <td>29.542208</td>\n",
       "      <td>...</td>\n",
       "      <td>0.0</td>\n",
       "      <td>0</td>\n",
       "      <td>1</td>\n",
       "      <td>1</td>\n",
       "      <td>1</td>\n",
       "      <td>1</td>\n",
       "      <td>1</td>\n",
       "      <td>69.046249</td>\n",
       "      <td>12</td>\n",
       "      <td>10</td>\n",
       "    </tr>\n",
       "    <tr>\n",
       "      <th>1457</th>\n",
       "      <td>2918</td>\n",
       "      <td>0</td>\n",
       "      <td>1</td>\n",
       "      <td>0</td>\n",
       "      <td>1</td>\n",
       "      <td>0</td>\n",
       "      <td>0</td>\n",
       "      <td>0</td>\n",
       "      <td>1</td>\n",
       "      <td>16.648542</td>\n",
       "      <td>...</td>\n",
       "      <td>0.0</td>\n",
       "      <td>0</td>\n",
       "      <td>0</td>\n",
       "      <td>1</td>\n",
       "      <td>1</td>\n",
       "      <td>1</td>\n",
       "      <td>0</td>\n",
       "      <td>27.761293</td>\n",
       "      <td>10</td>\n",
       "      <td>14</td>\n",
       "    </tr>\n",
       "    <tr>\n",
       "      <th>1458</th>\n",
       "      <td>2919</td>\n",
       "      <td>0</td>\n",
       "      <td>0</td>\n",
       "      <td>0</td>\n",
       "      <td>0</td>\n",
       "      <td>1</td>\n",
       "      <td>0</td>\n",
       "      <td>0</td>\n",
       "      <td>1</td>\n",
       "      <td>18.557278</td>\n",
       "      <td>...</td>\n",
       "      <td>0.0</td>\n",
       "      <td>0</td>\n",
       "      <td>0</td>\n",
       "      <td>1</td>\n",
       "      <td>1</td>\n",
       "      <td>1</td>\n",
       "      <td>1</td>\n",
       "      <td>44.822457</td>\n",
       "      <td>12</td>\n",
       "      <td>12</td>\n",
       "    </tr>\n",
       "  </tbody>\n",
       "</table>\n",
       "<p>2917 rows × 230 columns</p>\n",
       "</div>"
      ],
      "text/plain": [
       "        Id  MSSubClass_0  MSSubClass_1  MSSubClass_2  MSSubClass_3  \\\n",
       "0        1             0             0             0             0   \n",
       "1        2             0             0             0             1   \n",
       "2        3             0             0             0             0   \n",
       "3        4             0             0             0             1   \n",
       "4        5             0             0             0             0   \n",
       "...    ...           ...           ...           ...           ...   \n",
       "1454  2915             0             1             1             0   \n",
       "1455  2916             0             1             1             0   \n",
       "1456  2917             0             0             0             1   \n",
       "1457  2918             0             1             0             1   \n",
       "1458  2919             0             0             0             0   \n",
       "\n",
       "      MSSubClass_4  MSZoning_0  MSZoning_1  MSZoning_2  LotFrontage  ...  \\\n",
       "0                1           0           0           1    17.139553  ...   \n",
       "1                0           0           0           1    19.461575  ...   \n",
       "2                1           0           0           1    17.620960  ...   \n",
       "3                1           0           0           1    16.315541  ...   \n",
       "4                1           0           0           1    20.048332  ...   \n",
       "...            ...         ...         ...         ...          ...  ...   \n",
       "1454             0           0           1           0     8.389121  ...   \n",
       "1455             0           0           1           0     8.389121  ...   \n",
       "1456             0           0           0           1    29.542208  ...   \n",
       "1457             0           0           0           1    16.648542  ...   \n",
       "1458             1           0           0           1    18.557278  ...   \n",
       "\n",
       "      haspool  HasWoodDeck  HasOpenPorch  HasEnclosedPorch  Has3SsnPorch  \\\n",
       "0         0.0            1             0                 1             1   \n",
       "1         0.0            0             1                 1             1   \n",
       "2         0.0            1             0                 1             1   \n",
       "3         0.0            1             0                 0             1   \n",
       "4         0.0            0             0                 1             1   \n",
       "...       ...          ...           ...               ...           ...   \n",
       "1454      0.0            1             1                 1             1   \n",
       "1455      0.0            1             0                 1             1   \n",
       "1456      0.0            0             1                 1             1   \n",
       "1457      0.0            0             0                 1             1   \n",
       "1458      0.0            0             0                 1             1   \n",
       "\n",
       "      HasScreenPorch  hasgarage  Total_porch_sf  Total_Home_Quality  \\\n",
       "0                  1          1       18.736118                  12   \n",
       "1                  1          1       51.635462                  14   \n",
       "2                  1          1       14.654640                  12   \n",
       "3                  1          1       52.609466                  12   \n",
       "4                  1          1       49.205234                  13   \n",
       "...              ...        ...             ...                 ...   \n",
       "1454               1          0        0.000000                  11   \n",
       "1455               1          1       10.059916                   9   \n",
       "1456               1          1       69.046249                  12   \n",
       "1457               1          0       27.761293                  10   \n",
       "1458               1          1       44.822457                  12   \n",
       "\n",
       "      YearsSinceRemodel  \n",
       "0                     5  \n",
       "1                    31  \n",
       "2                     6  \n",
       "3                    36  \n",
       "4                     8  \n",
       "...                 ...  \n",
       "1454                 36  \n",
       "1455                 36  \n",
       "1456                 10  \n",
       "1457                 14  \n",
       "1458                 12  \n",
       "\n",
       "[2917 rows x 230 columns]"
      ]
     },
     "execution_count": 38,
     "metadata": {},
     "output_type": "execute_result"
    }
   ],
   "source": [
    "all_data_linear"
   ]
  },
  {
   "cell_type": "code",
   "execution_count": 39,
   "id": "b2a24a72",
   "metadata": {
    "execution": {
     "iopub.execute_input": "2023-03-03T04:54:42.043217Z",
     "iopub.status.busy": "2023-03-03T04:54:42.042829Z",
     "iopub.status.idle": "2023-03-03T04:54:42.058065Z",
     "shell.execute_reply": "2023-03-03T04:54:42.056335Z"
    },
    "papermill": {
     "duration": 0.041954,
     "end_time": "2023-03-03T04:54:42.060621",
     "exception": false,
     "start_time": "2023-03-03T04:54:42.018667",
     "status": "completed"
    },
    "tags": []
   },
   "outputs": [],
   "source": [
    "X_train_tree = all_data_tree.loc[all_data.Id < 1461, :].reset_index(drop=True)\n",
    "X_test_tree = all_data_tree.loc[all_data.Id >= 1461, :].reset_index(drop=True)\n",
    "\n",
    "X_train_linear = all_data_linear.loc[all_data.Id < 1461, :].reset_index(drop=True)\n",
    "X_test_linear = all_data_linear.loc[all_data.Id >= 1461, :].reset_index(drop=True)"
   ]
  },
  {
   "cell_type": "markdown",
   "id": "c41ee04f",
   "metadata": {
    "papermill": {
     "duration": 0.022672,
     "end_time": "2023-03-03T04:54:42.106628",
     "exception": false,
     "start_time": "2023-03-03T04:54:42.083956",
     "status": "completed"
    },
    "tags": []
   },
   "source": [
    "#### kfold split\n",
    "\n",
    "assign kfold at first can come in handy c/w just using `cross_val_score` at the end, e.g. target encoding. "
   ]
  },
  {
   "cell_type": "code",
   "execution_count": 40,
   "id": "fe4f26df",
   "metadata": {
    "execution": {
     "iopub.execute_input": "2023-03-03T04:54:42.152725Z",
     "iopub.status.busy": "2023-03-03T04:54:42.152360Z",
     "iopub.status.idle": "2023-03-03T04:54:42.166940Z",
     "shell.execute_reply": "2023-03-03T04:54:42.166205Z"
    },
    "papermill": {
     "duration": 0.040218,
     "end_time": "2023-03-03T04:54:42.168930",
     "exception": false,
     "start_time": "2023-03-03T04:54:42.128712",
     "status": "completed"
    },
    "tags": []
   },
   "outputs": [],
   "source": [
    "def kf_split(df):\n",
    "    # creaete kfold column and initialize with -1\n",
    "    df['kfold'] = -1\n",
    "\n",
    "    # initiate kfold class from model selection module\n",
    "    kf = KFold(n_splits=5)\n",
    "\n",
    "    # fill the new kfold column\n",
    "    for fold, (train_, valid_) in enumerate(kf.split(X=train)):\n",
    "        df.loc[valid_, 'kfold'] = fold\n",
    "        \n",
    "    return df\n",
    "\n",
    "X_train_tree = kf_split(X_train_tree)\n",
    "X_train_linear = kf_split(X_train_linear)"
   ]
  },
  {
   "cell_type": "markdown",
   "id": "41ca18e1",
   "metadata": {
    "papermill": {
     "duration": 0.021726,
     "end_time": "2023-03-03T04:54:42.213292",
     "exception": false,
     "start_time": "2023-03-03T04:54:42.191566",
     "status": "completed"
    },
    "tags": []
   },
   "source": [
    "# Models"
   ]
  },
  {
   "cell_type": "code",
   "execution_count": 41,
   "id": "fd8e0cfc",
   "metadata": {
    "execution": {
     "iopub.execute_input": "2023-03-03T04:54:42.260886Z",
     "iopub.status.busy": "2023-03-03T04:54:42.259826Z",
     "iopub.status.idle": "2023-03-03T04:54:42.265101Z",
     "shell.execute_reply": "2023-03-03T04:54:42.264441Z"
    },
    "papermill": {
     "duration": 0.031485,
     "end_time": "2023-03-03T04:54:42.266973",
     "exception": false,
     "start_time": "2023-03-03T04:54:42.235488",
     "status": "completed"
    },
    "tags": []
   },
   "outputs": [],
   "source": [
    "def cv_rmse(model, folds, X=X_train_tree, y = y_train):\n",
    "    rmse = np.sqrt(-cross_val_score(model, X, y, scoring=\"neg_mean_squared_error\", cv=folds))\n",
    "    return (rmse)"
   ]
  },
  {
   "cell_type": "code",
   "execution_count": 42,
   "id": "b2d28e8e",
   "metadata": {
    "execution": {
     "iopub.execute_input": "2023-03-03T04:54:42.313920Z",
     "iopub.status.busy": "2023-03-03T04:54:42.313270Z",
     "iopub.status.idle": "2023-03-03T04:55:01.206108Z",
     "shell.execute_reply": "2023-03-03T04:55:01.205289Z"
    },
    "papermill": {
     "duration": 18.919669,
     "end_time": "2023-03-03T04:55:01.209182",
     "exception": false,
     "start_time": "2023-03-03T04:54:42.289513",
     "status": "completed"
    },
    "tags": []
   },
   "outputs": [
    {
     "name": "stdout",
     "output_type": "stream",
     "text": [
      "cv score: [0.11008085 0.12231261 0.12410469 0.10924251 0.12448236]\n",
      "mean cv score: 0.118\n"
     ]
    }
   ],
   "source": [
    "### first, use xgboost as baseline\n",
    "xg = xgb.XGBRegressor(random_state=42, n_estimators = 1200, learning_rate=0.1, max_depth=3, reg_lambda =0.5, n_jobs = 4)\n",
    "\n",
    "xg_score = cv_rmse(xg, folds=5)\n",
    "print('cv score:', xg_score)\n",
    "print('mean cv score:', '%.3f'% xg_score.mean())"
   ]
  },
  {
   "cell_type": "code",
   "execution_count": 43,
   "id": "202a1efa",
   "metadata": {
    "execution": {
     "iopub.execute_input": "2023-03-03T04:55:01.258572Z",
     "iopub.status.busy": "2023-03-03T04:55:01.257890Z",
     "iopub.status.idle": "2023-03-03T04:55:01.263454Z",
     "shell.execute_reply": "2023-03-03T04:55:01.261782Z"
    },
    "papermill": {
     "duration": 0.033222,
     "end_time": "2023-03-03T04:55:01.266335",
     "exception": false,
     "start_time": "2023-03-03T04:55:01.233113",
     "status": "completed"
    },
    "tags": []
   },
   "outputs": [],
   "source": [
    "#from sklearn.model_selection import GridSearchCV\n",
    "#parameters = {'n_estimators': [900], \n",
    "#              'learning_rate': [0.15],\n",
    "#              'max_depth': [3]}\n",
    "#xgb_reg = GridSearchCV(estimator=xg, param_grid = parameters, cv=5).fit(X_train, y_train)"
   ]
  },
  {
   "cell_type": "code",
   "execution_count": 44,
   "id": "5716ff09",
   "metadata": {
    "execution": {
     "iopub.execute_input": "2023-03-03T04:55:01.313940Z",
     "iopub.status.busy": "2023-03-03T04:55:01.313299Z",
     "iopub.status.idle": "2023-03-03T04:55:01.316715Z",
     "shell.execute_reply": "2023-03-03T04:55:01.316091Z"
    },
    "papermill": {
     "duration": 0.030435,
     "end_time": "2023-03-03T04:55:01.319428",
     "exception": false,
     "start_time": "2023-03-03T04:55:01.288993",
     "status": "completed"
    },
    "tags": []
   },
   "outputs": [],
   "source": [
    "#print(\"Best score: %0.3f\" % xgb_reg.best_score_)\n",
    "#print(\"Best parameters set:\", xgb_reg.best_params_)"
   ]
  },
  {
   "cell_type": "markdown",
   "id": "f9e86523",
   "metadata": {
    "papermill": {
     "duration": 0.022496,
     "end_time": "2023-03-03T04:55:01.365047",
     "exception": false,
     "start_time": "2023-03-03T04:55:01.342551",
     "status": "completed"
    },
    "tags": []
   },
   "source": [
    "## Stacking multiple models"
   ]
  },
  {
   "cell_type": "code",
   "execution_count": 45,
   "id": "d17e9adb",
   "metadata": {
    "execution": {
     "iopub.execute_input": "2023-03-03T04:55:01.412371Z",
     "iopub.status.busy": "2023-03-03T04:55:01.411708Z",
     "iopub.status.idle": "2023-03-03T04:55:02.594419Z",
     "shell.execute_reply": "2023-03-03T04:55:02.593244Z"
    },
    "papermill": {
     "duration": 1.20901,
     "end_time": "2023-03-03T04:55:02.596779",
     "exception": false,
     "start_time": "2023-03-03T04:55:01.387769",
     "status": "completed"
    },
    "tags": []
   },
   "outputs": [
    {
     "data": {
      "text/html": [
       "<style type='text/css'>\n",
       ".datatable table.frame { margin-bottom: 0; }\n",
       ".datatable table.frame thead { border-bottom: none; }\n",
       ".datatable table.frame tr.coltypes td {  color: #FFFFFF;  line-height: 6px;  padding: 0 0.5em;}\n",
       ".datatable .bool    { background: #DDDD99; }\n",
       ".datatable .object  { background: #565656; }\n",
       ".datatable .int     { background: #5D9E5D; }\n",
       ".datatable .float   { background: #4040CC; }\n",
       ".datatable .str     { background: #CC4040; }\n",
       ".datatable .time    { background: #40CC40; }\n",
       ".datatable .row_index {  background: var(--jp-border-color3);  border-right: 1px solid var(--jp-border-color0);  color: var(--jp-ui-font-color3);  font-size: 9px;}\n",
       ".datatable .frame tbody td { text-align: left; }\n",
       ".datatable .frame tr.coltypes .row_index {  background: var(--jp-border-color0);}\n",
       ".datatable th:nth-child(2) { padding-left: 12px; }\n",
       ".datatable .hellipsis {  color: var(--jp-cell-editor-border-color);}\n",
       ".datatable .vellipsis {  background: var(--jp-layout-color0);  color: var(--jp-cell-editor-border-color);}\n",
       ".datatable .na {  color: var(--jp-cell-editor-border-color);  font-size: 80%;}\n",
       ".datatable .sp {  opacity: 0.25;}\n",
       ".datatable .footer { font-size: 9px; }\n",
       ".datatable .frame_dimensions {  background: var(--jp-border-color3);  border-top: 1px solid var(--jp-border-color0);  color: var(--jp-ui-font-color3);  display: inline-block;  opacity: 0.6;  padding: 1px 10px 1px 5px;}\n",
       "</style>\n"
      ],
      "text/plain": [
       "<IPython.core.display.HTML object>"
      ]
     },
     "metadata": {},
     "output_type": "display_data"
    }
   ],
   "source": [
    "# models\n",
    "from sklearn.ensemble import RandomForestRegressor, GradientBoostingRegressor, AdaBoostRegressor, BaggingRegressor\n",
    "from sklearn.kernel_ridge import KernelRidge\n",
    "from sklearn.linear_model import Ridge, RidgeCV\n",
    "from sklearn.linear_model import ElasticNet, ElasticNetCV\n",
    "from sklearn.svm import SVR\n",
    "from mlxtend.regressor import StackingCVRegressor\n",
    "import lightgbm as lgb\n",
    "from lightgbm import LGBMRegressor\n",
    "from xgboost import XGBRegressor\n",
    "\n",
    "# tools \n",
    "from sklearn.pipeline import make_pipeline\n",
    "from sklearn.preprocessing import scale\n",
    "from sklearn.preprocessing import StandardScaler\n",
    "from sklearn.preprocessing import RobustScaler"
   ]
  },
  {
   "cell_type": "code",
   "execution_count": 46,
   "id": "eb4abd0c",
   "metadata": {
    "execution": {
     "iopub.execute_input": "2023-03-03T04:55:02.644433Z",
     "iopub.status.busy": "2023-03-03T04:55:02.644075Z",
     "iopub.status.idle": "2023-03-03T04:55:02.654694Z",
     "shell.execute_reply": "2023-03-03T04:55:02.653966Z"
    },
    "papermill": {
     "duration": 0.037529,
     "end_time": "2023-03-03T04:55:02.656721",
     "exception": false,
     "start_time": "2023-03-03T04:55:02.619192",
     "status": "completed"
    },
    "tags": []
   },
   "outputs": [],
   "source": [
    "# Light Gradient Boosting Regressor\n",
    "lightgbm = LGBMRegressor(objective='regression', \n",
    "                       num_leaves=6,\n",
    "                       learning_rate=0.005, \n",
    "                       n_estimators=7000,\n",
    "                       max_bin=150, \n",
    "                       subsample = 0.45,\n",
    "                       colsample_bytree = 0.05,\n",
    "                       bagging_seed=8,\n",
    "                       verbose=-1,\n",
    "                       random_state=42,\n",
    "                       n_jobs=4)\n",
    "\n",
    "# XGBoost Regressor\n",
    "xgboost = XGBRegressor(random_state=42, \n",
    "                       n_estimators = 2000, \n",
    "                       learning_rate=0.065, \n",
    "                       max_depth=3, \n",
    "                       reg_lambda =0.8, \n",
    "                       n_jobs= 4, \n",
    "                       subsample=0.7, \n",
    "                       colsample_bytree=0.6)\n",
    "\n",
    "# Ridge Regressor\n",
    "ridge_alphas = [1e-10, 1e-8, 9e-4, 7e-4, 5e-4, 3e-4, 1e-4, 1e-3, 5e-2, 1e-2, 0.1, 0.3, 1, 3, 5, 10, 15, 18, 20, 30, 50, 75, 100]\n",
    "ridge = make_pipeline(RobustScaler(), RidgeCV(alphas=ridge_alphas, cv = 5))\n",
    "\n",
    "# Support Vector Regressor\n",
    "svr = make_pipeline(RobustScaler(), SVR(C= 20, epsilon= 0.008, gamma=0.0003))\n",
    "\n",
    "# Gradient Boosting Regressor\n",
    "gbr = GradientBoostingRegressor(n_estimators=6000,\n",
    "                                learning_rate=0.01,\n",
    "                                max_depth=4,\n",
    "                                max_features='sqrt',\n",
    "                                min_samples_leaf=15,\n",
    "                                min_samples_split=10,\n",
    "                                loss='huber',\n",
    "                                random_state=42)  \n",
    "\n",
    "# Random Forest Regressor\n",
    "rf = RandomForestRegressor(n_estimators=1200,\n",
    "                          max_depth=15,\n",
    "                          min_samples_split=5,\n",
    "                          min_samples_leaf=5,\n",
    "                          max_features=None,\n",
    "                          oob_score=True,\n",
    "                          random_state=42,\n",
    "                          n_jobs=4)\n"
   ]
  },
  {
   "cell_type": "code",
   "execution_count": 47,
   "id": "21322322",
   "metadata": {
    "execution": {
     "iopub.execute_input": "2023-03-03T04:55:02.705023Z",
     "iopub.status.busy": "2023-03-03T04:55:02.704245Z",
     "iopub.status.idle": "2023-03-03T04:55:02.712604Z",
     "shell.execute_reply": "2023-03-03T04:55:02.711975Z"
    },
    "papermill": {
     "duration": 0.034977,
     "end_time": "2023-03-03T04:55:02.714536",
     "exception": false,
     "start_time": "2023-03-03T04:55:02.679559",
     "status": "completed"
    },
    "tags": []
   },
   "outputs": [],
   "source": [
    "# get out-of-fold prediction\n",
    "# https://www.kaggle.com/code/eliotbarr/stacking-test-sklearn-xgboost-catboost-lightgbm/script\n",
    "def get_oof(clf, NFOLDS, Xtr, Xte, y):\n",
    "    oof_train = np.zeros((X_train.shape[0]))\n",
    "    oof_test = np.zeros((X_test.shape[0]))\n",
    "    oof_test_skf = np.empty((NFOLDS, X_test.shape[0]))\n",
    "\n",
    "    for i in range(NFOLDS):\n",
    "\n",
    "        X_tr = Xtr[Xtr['kfold'] != i].drop(['kfold'], axis=1)\n",
    "        y_tr = y[Xtr['kfold'] != i]\n",
    "        X_val = Xtr[Xtr['kfold'] == i].drop(['kfold'], axis=1)\n",
    "        y_val = y[Xtr['kfold'] == i]\n",
    "        \n",
    "        clf.fit(X_tr, y_tr)\n",
    "\n",
    "        oof_train[X_val.index] = clf.predict(X_val)\n",
    "        oof_test_skf[i, :] = clf.predict(Xte)\n",
    "\n",
    "    oof_test[:] = oof_test_skf.mean(axis=0)\n",
    "    return oof_train.reshape(-1, 1), oof_test.reshape(-1, 1)"
   ]
  },
  {
   "cell_type": "code",
   "execution_count": 48,
   "id": "9a8b79c4",
   "metadata": {
    "execution": {
     "iopub.execute_input": "2023-03-03T04:55:02.760670Z",
     "iopub.status.busy": "2023-03-03T04:55:02.760134Z",
     "iopub.status.idle": "2023-03-03T04:55:02.764533Z",
     "shell.execute_reply": "2023-03-03T04:55:02.763905Z"
    },
    "papermill": {
     "duration": 0.029606,
     "end_time": "2023-03-03T04:55:02.766462",
     "exception": false,
     "start_time": "2023-03-03T04:55:02.736856",
     "status": "completed"
    },
    "tags": []
   },
   "outputs": [],
   "source": [
    "# hyperparameter tuning with hyperopt\n",
    "from hyperopt import STATUS_OK, Trials, fmin, hp, tpe\n",
    "from hyperopt.pyll.base import scope\n",
    "\n",
    "# check https://www.kaggle.com/code/chongxianjun/xgboost-for-housing-price-prediction/edit/run/111869308\n",
    "    "
   ]
  },
  {
   "cell_type": "code",
   "execution_count": 49,
   "id": "35da0259",
   "metadata": {
    "execution": {
     "iopub.execute_input": "2023-03-03T04:55:02.812635Z",
     "iopub.status.busy": "2023-03-03T04:55:02.812300Z",
     "iopub.status.idle": "2023-03-03T04:55:02.816909Z",
     "shell.execute_reply": "2023-03-03T04:55:02.815677Z"
    },
    "papermill": {
     "duration": 0.029793,
     "end_time": "2023-03-03T04:55:02.818823",
     "exception": false,
     "start_time": "2023-03-03T04:55:02.789030",
     "status": "completed"
    },
    "tags": []
   },
   "outputs": [],
   "source": [
    "# take forever to train (advice to not use)\n",
    "#stack_gen = StackingCVRegressor(regressors=(xgboost, lightgbm, svr, ridge, gbr, rf),\n",
    "#                               meta_regressor=xgboost,\n",
    "#                               use_features_in_secondary=True)"
   ]
  },
  {
   "cell_type": "code",
   "execution_count": 50,
   "id": "4b603fb0",
   "metadata": {
    "execution": {
     "iopub.execute_input": "2023-03-03T04:55:02.865044Z",
     "iopub.status.busy": "2023-03-03T04:55:02.864639Z",
     "iopub.status.idle": "2023-03-03T04:55:29.661020Z",
     "shell.execute_reply": "2023-03-03T04:55:29.660261Z"
    },
    "papermill": {
     "duration": 26.822067,
     "end_time": "2023-03-03T04:55:29.663054",
     "exception": false,
     "start_time": "2023-03-03T04:55:02.840987",
     "status": "completed"
    },
    "tags": []
   },
   "outputs": [
    {
     "name": "stdout",
     "output_type": "stream",
     "text": [
      "XG-CV: 0.11587815285995315\n"
     ]
    }
   ],
   "source": [
    "# this can be further input to the model in the next layer\n",
    "xg_oof_train, xg_oof_test = get_oof(xgboost, 5, X_train_tree, X_test_tree, y_train)\n",
    "print(\"XG-CV: {}\".format(np.sqrt(mean_squared_error(y_train, xg_oof_train))))"
   ]
  },
  {
   "cell_type": "code",
   "execution_count": 51,
   "id": "c5e86792",
   "metadata": {
    "execution": {
     "iopub.execute_input": "2023-03-03T04:55:29.711527Z",
     "iopub.status.busy": "2023-03-03T04:55:29.711169Z",
     "iopub.status.idle": "2023-03-03T04:55:39.368288Z",
     "shell.execute_reply": "2023-03-03T04:55:39.367173Z"
    },
    "papermill": {
     "duration": 9.684382,
     "end_time": "2023-03-03T04:55:39.370792",
     "exception": false,
     "start_time": "2023-03-03T04:55:29.686410",
     "status": "completed"
    },
    "tags": []
   },
   "outputs": [
    {
     "name": "stdout",
     "output_type": "stream",
     "text": [
      "LGB-CV: 0.11361115795191119\n"
     ]
    }
   ],
   "source": [
    "lgb_oof_train, lgb_oof_test = get_oof(lightgbm, 5, X_train_tree, X_test_tree, y_train)\n",
    "print(\"LGB-CV: {}\".format(np.sqrt(mean_squared_error(y_train, lgb_oof_train))))"
   ]
  },
  {
   "cell_type": "code",
   "execution_count": 52,
   "id": "67df2139",
   "metadata": {
    "execution": {
     "iopub.execute_input": "2023-03-03T04:55:39.418905Z",
     "iopub.status.busy": "2023-03-03T04:55:39.418495Z",
     "iopub.status.idle": "2023-03-03T04:55:46.204884Z",
     "shell.execute_reply": "2023-03-03T04:55:46.204106Z"
    },
    "papermill": {
     "duration": 6.813012,
     "end_time": "2023-03-03T04:55:46.207029",
     "exception": false,
     "start_time": "2023-03-03T04:55:39.394017",
     "status": "completed"
    },
    "tags": []
   },
   "outputs": [
    {
     "name": "stdout",
     "output_type": "stream",
     "text": [
      "Ridge-CV: 0.11154444647220081\n"
     ]
    }
   ],
   "source": [
    "ridge_oof_train, ridge_oof_test = get_oof(ridge, 5, X_train_linear, X_test_linear, y_train)\n",
    "print(\"Ridge-CV: {}\".format(np.sqrt(mean_squared_error(y_train, ridge_oof_train))))"
   ]
  },
  {
   "cell_type": "code",
   "execution_count": 53,
   "id": "b6c11ead",
   "metadata": {
    "execution": {
     "iopub.execute_input": "2023-03-03T04:55:46.272221Z",
     "iopub.status.busy": "2023-03-03T04:55:46.271383Z",
     "iopub.status.idle": "2023-03-03T04:57:57.886911Z",
     "shell.execute_reply": "2023-03-03T04:57:57.886026Z"
    },
    "papermill": {
     "duration": 131.672941,
     "end_time": "2023-03-03T04:57:57.910923",
     "exception": false,
     "start_time": "2023-03-03T04:55:46.237982",
     "status": "completed"
    },
    "tags": []
   },
   "outputs": [
    {
     "name": "stdout",
     "output_type": "stream",
     "text": [
      "GBR-CV: 0.11180040315348912\n"
     ]
    }
   ],
   "source": [
    "gbr_oof_train, gbr_oof_test = get_oof(gbr, 5, X_train_tree, X_test_tree, y_train)\n",
    "print(\"GBR-CV: {}\".format(np.sqrt(mean_squared_error(y_train, gbr_oof_train))))"
   ]
  },
  {
   "cell_type": "code",
   "execution_count": 54,
   "id": "86a6e798",
   "metadata": {
    "execution": {
     "iopub.execute_input": "2023-03-03T04:57:57.958432Z",
     "iopub.status.busy": "2023-03-03T04:57:57.957834Z",
     "iopub.status.idle": "2023-03-03T04:58:30.902568Z",
     "shell.execute_reply": "2023-03-03T04:58:30.901302Z"
    },
    "papermill": {
     "duration": 32.992086,
     "end_time": "2023-03-03T04:58:30.926110",
     "exception": false,
     "start_time": "2023-03-03T04:57:57.934024",
     "status": "completed"
    },
    "tags": []
   },
   "outputs": [
    {
     "name": "stdout",
     "output_type": "stream",
     "text": [
      "RF-CV: 0.13429652051940663\n"
     ]
    }
   ],
   "source": [
    "rf_oof_train, rf_oof_test = get_oof(rf, 5, X_train_tree, X_test_tree, y_train)\n",
    "print(\"RF-CV: {}\".format(np.sqrt(mean_squared_error(y_train, rf_oof_train))))"
   ]
  },
  {
   "cell_type": "code",
   "execution_count": 55,
   "id": "3fd2ea22",
   "metadata": {
    "execution": {
     "iopub.execute_input": "2023-03-03T04:58:30.972858Z",
     "iopub.status.busy": "2023-03-03T04:58:30.972453Z",
     "iopub.status.idle": "2023-03-03T04:58:33.710850Z",
     "shell.execute_reply": "2023-03-03T04:58:33.709433Z"
    },
    "papermill": {
     "duration": 2.764541,
     "end_time": "2023-03-03T04:58:33.713121",
     "exception": false,
     "start_time": "2023-03-03T04:58:30.948580",
     "status": "completed"
    },
    "tags": []
   },
   "outputs": [
    {
     "name": "stdout",
     "output_type": "stream",
     "text": [
      "SVR-CV: 0.11233832723022347\n"
     ]
    }
   ],
   "source": [
    "svr_oof_train, svr_oof_test = get_oof(svr, 5, X_train_linear, X_test_linear, y_train)\n",
    "print(\"SVR-CV: {}\".format(np.sqrt(mean_squared_error(y_train, svr_oof_train))))"
   ]
  },
  {
   "cell_type": "markdown",
   "id": "985f1d7f",
   "metadata": {
    "papermill": {
     "duration": 0.022396,
     "end_time": "2023-03-03T04:58:33.758197",
     "exception": false,
     "start_time": "2023-03-03T04:58:33.735801",
     "status": "completed"
    },
    "tags": []
   },
   "source": [
    "# Stacking\n",
    "\n",
    "the cross validation looks ok but when submitting test prediction, score is around 0.7 which is worse than the first time i did linear regression (0.48). Somewhere is wrong with the test but i dont know how.\n",
    "<br>\n",
    "\n",
    "Tested issues but havent improved the result: \n",
    "1. make use of sklearn API instead of xgb ones to prevent mistake- no use\n",
    "\n",
    "Problem to previous problem solved:\n",
    "- caused by separate normalization of train and test data\n"
   ]
  },
  {
   "cell_type": "code",
   "execution_count": 56,
   "id": "a0b8ea7a",
   "metadata": {
    "execution": {
     "iopub.execute_input": "2023-03-03T04:58:33.805438Z",
     "iopub.status.busy": "2023-03-03T04:58:33.805025Z",
     "iopub.status.idle": "2023-03-03T04:58:33.813185Z",
     "shell.execute_reply": "2023-03-03T04:58:33.811960Z"
    },
    "papermill": {
     "duration": 0.034248,
     "end_time": "2023-03-03T04:58:33.815144",
     "exception": false,
     "start_time": "2023-03-03T04:58:33.780896",
     "status": "completed"
    },
    "tags": []
   },
   "outputs": [
    {
     "name": "stdout",
     "output_type": "stream",
     "text": [
      "(1458, 6),(1459, 6)\n"
     ]
    }
   ],
   "source": [
    "X_train2 = np.concatenate((xg_oof_train, \n",
    "                          lgb_oof_train, \n",
    "                          ridge_oof_train, \n",
    "                          gbr_oof_train, \n",
    "                          rf_oof_train, \n",
    "                          svr_oof_train), axis=1)\n",
    "\n",
    "X_test2 = np.concatenate((xg_oof_test, \n",
    "                         lgb_oof_test, \n",
    "                         ridge_oof_test, \n",
    "                         gbr_oof_test, \n",
    "                         rf_oof_test, \n",
    "                         svr_oof_test), axis=1)\n",
    "print(\"{},{}\".format(X_train2.shape, X_test2.shape))"
   ]
  },
  {
   "cell_type": "code",
   "execution_count": 57,
   "id": "dcd1274f",
   "metadata": {
    "execution": {
     "iopub.execute_input": "2023-03-03T04:58:33.861563Z",
     "iopub.status.busy": "2023-03-03T04:58:33.861212Z",
     "iopub.status.idle": "2023-03-03T04:58:33.867734Z",
     "shell.execute_reply": "2023-03-03T04:58:33.866678Z"
    },
    "papermill": {
     "duration": 0.03176,
     "end_time": "2023-03-03T04:58:33.869587",
     "exception": false,
     "start_time": "2023-03-03T04:58:33.837827",
     "status": "completed"
    },
    "tags": []
   },
   "outputs": [
    {
     "data": {
      "text/plain": [
       "\"\\nxgb2_sk = XGBRegressor()\\nxgb2_sk.fit(X_train2, y_train)\\n\\nxgb2_score = cv_rmse(xgb2_sk, folds=5, y = np.expm1(y_train))\\nprint('cv score:', xgb2_score)\\nprint('mean cv score:', '%.3f'% xgb2_score.mean())\\n\""
      ]
     },
     "execution_count": 57,
     "metadata": {},
     "output_type": "execute_result"
    }
   ],
   "source": [
    "'''\n",
    "xgb2_sk = XGBRegressor()\n",
    "xgb2_sk.fit(X_train2, y_train)\n",
    "\n",
    "xgb2_score = cv_rmse(xgb2_sk, folds=5, y = np.expm1(y_train))\n",
    "print('cv score:', xgb2_score)\n",
    "print('mean cv score:', '%.3f'% xgb2_score.mean())\n",
    "'''"
   ]
  },
  {
   "cell_type": "code",
   "execution_count": null,
   "id": "1bab5d5f",
   "metadata": {
    "papermill": {
     "duration": 0.022804,
     "end_time": "2023-03-03T04:58:33.915277",
     "exception": false,
     "start_time": "2023-03-03T04:58:33.892473",
     "status": "completed"
    },
    "tags": []
   },
   "outputs": [],
   "source": []
  },
  {
   "cell_type": "code",
   "execution_count": 58,
   "id": "bf3e9ba8",
   "metadata": {
    "execution": {
     "iopub.execute_input": "2023-03-03T04:58:33.962595Z",
     "iopub.status.busy": "2023-03-03T04:58:33.962261Z",
     "iopub.status.idle": "2023-03-03T04:58:33.973376Z",
     "shell.execute_reply": "2023-03-03T04:58:33.972557Z"
    },
    "papermill": {
     "duration": 0.037886,
     "end_time": "2023-03-03T04:58:33.976020",
     "exception": false,
     "start_time": "2023-03-03T04:58:33.938134",
     "status": "completed"
    },
    "tags": []
   },
   "outputs": [],
   "source": [
    "# convert input to format ideal for xgb\n",
    "dtrain = xgb.DMatrix(X_train2, label= y_train)\n",
    "dtest = xgb.DMatrix(X_test2)"
   ]
  },
  {
   "cell_type": "code",
   "execution_count": 59,
   "id": "73494e56",
   "metadata": {
    "execution": {
     "iopub.execute_input": "2023-03-03T04:58:34.023193Z",
     "iopub.status.busy": "2023-03-03T04:58:34.022853Z",
     "iopub.status.idle": "2023-03-03T04:58:34.029268Z",
     "shell.execute_reply": "2023-03-03T04:58:34.028302Z"
    },
    "papermill": {
     "duration": 0.032024,
     "end_time": "2023-03-03T04:58:34.031068",
     "exception": false,
     "start_time": "2023-03-03T04:58:33.999044",
     "status": "completed"
    },
    "tags": []
   },
   "outputs": [],
   "source": [
    "# set xgb parameters\n",
    "xgb2_params = {\n",
    "    'seed': 42,\n",
    "    'colsample_bytree': 0.5,\n",
    "    'subsample': 0.35,\n",
    "    'learning_rate': 0.01,\n",
    "    'objective': 'reg:squarederror',\n",
    "    'max_depth': 2,\n",
    "    'num_parallel_tree': 2,\n",
    "    'min_child_weight': 3,\n",
    "    'reg_lambda': 0.9\n",
    "}\n",
    "\n",
    "# make function to evaluate\n",
    "def xg2_eval_rmse(yhat, dtrain):\n",
    "    y = dtrain.get_label()\n",
    "    return 'rmse', np.sqrt(mean_squared_error(np.exp(y), np.exp(yhat)))"
   ]
  },
  {
   "cell_type": "code",
   "execution_count": 60,
   "id": "f082d508",
   "metadata": {
    "execution": {
     "iopub.execute_input": "2023-03-03T04:58:34.077964Z",
     "iopub.status.busy": "2023-03-03T04:58:34.077040Z",
     "iopub.status.idle": "2023-03-03T04:58:53.912963Z",
     "shell.execute_reply": "2023-03-03T04:58:53.912160Z"
    },
    "papermill": {
     "duration": 19.861519,
     "end_time": "2023-03-03T04:58:53.915058",
     "exception": false,
     "start_time": "2023-03-03T04:58:34.053539",
     "status": "completed"
    },
    "tags": []
   },
   "outputs": [
    {
     "name": "stdout",
     "output_type": "stream",
     "text": [
      "[0]\ttrain-rmse:11.41614+0.00754\ttest-rmse:11.41611+0.02292\n",
      "[10]\ttrain-rmse:10.32841+0.00671\ttest-rmse:10.32838+0.02371\n",
      "[20]\ttrain-rmse:9.34450+0.00631\ttest-rmse:9.34447+0.02406\n",
      "[30]\ttrain-rmse:8.45480+0.00569\ttest-rmse:8.45477+0.02462\n",
      "[40]\ttrain-rmse:7.65032+0.00531\ttest-rmse:7.65029+0.02494\n",
      "[50]\ttrain-rmse:6.92271+0.00478\ttest-rmse:6.92267+0.02540\n",
      "[60]\ttrain-rmse:6.26503+0.00404\ttest-rmse:6.26496+0.02602\n",
      "[70]\ttrain-rmse:5.66967+0.00371\ttest-rmse:5.66958+0.02577\n",
      "[80]\ttrain-rmse:5.13104+0.00339\ttest-rmse:5.13095+0.02544\n",
      "[90]\ttrain-rmse:4.64389+0.00318\ttest-rmse:4.64389+0.02504\n",
      "[100]\ttrain-rmse:4.20316+0.00287\ttest-rmse:4.20306+0.02462\n",
      "[110]\ttrain-rmse:3.80445+0.00256\ttest-rmse:3.80426+0.02423\n",
      "[120]\ttrain-rmse:3.44390+0.00231\ttest-rmse:3.44354+0.02362\n",
      "[130]\ttrain-rmse:3.11783+0.00204\ttest-rmse:3.11740+0.02294\n",
      "[140]\ttrain-rmse:2.82258+0.00186\ttest-rmse:2.82218+0.02212\n",
      "[150]\ttrain-rmse:2.55542+0.00162\ttest-rmse:2.55512+0.02135\n",
      "[160]\ttrain-rmse:2.31376+0.00140\ttest-rmse:2.31351+0.02046\n",
      "[170]\ttrain-rmse:2.09507+0.00118\ttest-rmse:2.09486+0.01954\n",
      "[180]\ttrain-rmse:1.89731+0.00110\ttest-rmse:1.89710+0.01872\n",
      "[190]\ttrain-rmse:1.71824+0.00089\ttest-rmse:1.71808+0.01797\n",
      "[200]\ttrain-rmse:1.55628+0.00078\ttest-rmse:1.55620+0.01724\n",
      "[210]\ttrain-rmse:1.40978+0.00071\ttest-rmse:1.40969+0.01656\n",
      "[220]\ttrain-rmse:1.27720+0.00066\ttest-rmse:1.27726+0.01595\n",
      "[230]\ttrain-rmse:1.15720+0.00056\ttest-rmse:1.15737+0.01529\n",
      "[240]\ttrain-rmse:1.04885+0.00047\ttest-rmse:1.04907+0.01478\n",
      "[250]\ttrain-rmse:0.95075+0.00042\ttest-rmse:0.95108+0.01431\n",
      "[260]\ttrain-rmse:0.86213+0.00037\ttest-rmse:0.86256+0.01378\n",
      "[270]\ttrain-rmse:0.78201+0.00036\ttest-rmse:0.78262+0.01335\n",
      "[280]\ttrain-rmse:0.70951+0.00042\ttest-rmse:0.71018+0.01303\n",
      "[290]\ttrain-rmse:0.64416+0.00038\ttest-rmse:0.64502+0.01253\n",
      "[300]\ttrain-rmse:0.58503+0.00047\ttest-rmse:0.58608+0.01217\n",
      "[310]\ttrain-rmse:0.53166+0.00046\ttest-rmse:0.53286+0.01172\n",
      "[320]\ttrain-rmse:0.48343+0.00051\ttest-rmse:0.48481+0.01124\n",
      "[330]\ttrain-rmse:0.44003+0.00056\ttest-rmse:0.44160+0.01080\n",
      "[340]\ttrain-rmse:0.40094+0.00063\ttest-rmse:0.40270+0.01032\n",
      "[350]\ttrain-rmse:0.36575+0.00066\ttest-rmse:0.36775+0.00986\n",
      "[360]\ttrain-rmse:0.33415+0.00078\ttest-rmse:0.33641+0.00946\n",
      "[370]\ttrain-rmse:0.30574+0.00094\ttest-rmse:0.30833+0.00905\n",
      "[380]\ttrain-rmse:0.28029+0.00102\ttest-rmse:0.28320+0.00850\n",
      "[390]\ttrain-rmse:0.25753+0.00110\ttest-rmse:0.26076+0.00796\n",
      "[400]\ttrain-rmse:0.23719+0.00121\ttest-rmse:0.24076+0.00744\n",
      "[410]\ttrain-rmse:0.21914+0.00133\ttest-rmse:0.22310+0.00691\n",
      "[420]\ttrain-rmse:0.20308+0.00139\ttest-rmse:0.20742+0.00628\n",
      "[430]\ttrain-rmse:0.18885+0.00142\ttest-rmse:0.19364+0.00559\n",
      "[440]\ttrain-rmse:0.17633+0.00154\ttest-rmse:0.18155+0.00495\n",
      "[450]\ttrain-rmse:0.16536+0.00165\ttest-rmse:0.17103+0.00428\n",
      "[460]\ttrain-rmse:0.15574+0.00174\ttest-rmse:0.16182+0.00362\n",
      "[470]\ttrain-rmse:0.14730+0.00187\ttest-rmse:0.15382+0.00299\n",
      "[480]\ttrain-rmse:0.14000+0.00198\ttest-rmse:0.14691+0.00246\n",
      "[490]\ttrain-rmse:0.13369+0.00208\ttest-rmse:0.14098+0.00203\n",
      "[500]\ttrain-rmse:0.12826+0.00222\ttest-rmse:0.13589+0.00178\n",
      "[510]\ttrain-rmse:0.12362+0.00228\ttest-rmse:0.13158+0.00185\n",
      "[520]\ttrain-rmse:0.11966+0.00241\ttest-rmse:0.12795+0.00212\n",
      "[530]\ttrain-rmse:0.11625+0.00244\ttest-rmse:0.12478+0.00256\n",
      "[540]\ttrain-rmse:0.11339+0.00249\ttest-rmse:0.12219+0.00304\n",
      "[550]\ttrain-rmse:0.11101+0.00256\ttest-rmse:0.12004+0.00346\n",
      "[560]\ttrain-rmse:0.10891+0.00262\ttest-rmse:0.11818+0.00389\n",
      "[570]\ttrain-rmse:0.10711+0.00265\ttest-rmse:0.11661+0.00432\n",
      "[580]\ttrain-rmse:0.10565+0.00269\ttest-rmse:0.11533+0.00473\n",
      "[590]\ttrain-rmse:0.10440+0.00274\ttest-rmse:0.11429+0.00507\n",
      "[600]\ttrain-rmse:0.10333+0.00274\ttest-rmse:0.11338+0.00543\n",
      "[610]\ttrain-rmse:0.10242+0.00275\ttest-rmse:0.11262+0.00576\n",
      "[620]\ttrain-rmse:0.10168+0.00277\ttest-rmse:0.11197+0.00607\n",
      "[630]\ttrain-rmse:0.10105+0.00277\ttest-rmse:0.11146+0.00635\n",
      "[640]\ttrain-rmse:0.10049+0.00279\ttest-rmse:0.11102+0.00657\n",
      "[650]\ttrain-rmse:0.10003+0.00281\ttest-rmse:0.11067+0.00679\n",
      "[660]\ttrain-rmse:0.09963+0.00282\ttest-rmse:0.11036+0.00698\n",
      "[670]\ttrain-rmse:0.09927+0.00283\ttest-rmse:0.11011+0.00718\n",
      "[680]\ttrain-rmse:0.09895+0.00283\ttest-rmse:0.10986+0.00732\n",
      "[690]\ttrain-rmse:0.09867+0.00285\ttest-rmse:0.10970+0.00749\n",
      "[700]\ttrain-rmse:0.09844+0.00287\ttest-rmse:0.10957+0.00763\n",
      "[710]\ttrain-rmse:0.09822+0.00287\ttest-rmse:0.10947+0.00774\n",
      "[720]\ttrain-rmse:0.09801+0.00286\ttest-rmse:0.10938+0.00788\n",
      "[730]\ttrain-rmse:0.09786+0.00286\ttest-rmse:0.10932+0.00798\n",
      "[740]\ttrain-rmse:0.09770+0.00286\ttest-rmse:0.10924+0.00803\n",
      "[750]\ttrain-rmse:0.09755+0.00285\ttest-rmse:0.10917+0.00812\n",
      "[760]\ttrain-rmse:0.09741+0.00286\ttest-rmse:0.10910+0.00822\n",
      "[770]\ttrain-rmse:0.09728+0.00286\ttest-rmse:0.10903+0.00829\n",
      "[780]\ttrain-rmse:0.09716+0.00288\ttest-rmse:0.10900+0.00835\n",
      "[790]\ttrain-rmse:0.09705+0.00288\ttest-rmse:0.10900+0.00840\n",
      "[800]\ttrain-rmse:0.09694+0.00289\ttest-rmse:0.10897+0.00845\n",
      "[810]\ttrain-rmse:0.09684+0.00289\ttest-rmse:0.10896+0.00852\n",
      "[820]\ttrain-rmse:0.09674+0.00290\ttest-rmse:0.10897+0.00855\n",
      "[828]\ttrain-rmse:0.09665+0.00289\ttest-rmse:0.10898+0.00857\n"
     ]
    }
   ],
   "source": [
    "res = xgb.cv(xgb2_params, dtrain, num_boost_round=1000, nfold=4, seed=42, stratified=False,\n",
    "             early_stopping_rounds=25, verbose_eval=10, show_stdv=True, metrics='rmse', maximize=False)"
   ]
  },
  {
   "cell_type": "code",
   "execution_count": 61,
   "id": "b39bb257",
   "metadata": {
    "execution": {
     "iopub.execute_input": "2023-03-03T04:58:53.970976Z",
     "iopub.status.busy": "2023-03-03T04:58:53.969869Z",
     "iopub.status.idle": "2023-03-03T04:58:53.976461Z",
     "shell.execute_reply": "2023-03-03T04:58:53.975623Z"
    },
    "papermill": {
     "duration": 0.036907,
     "end_time": "2023-03-03T04:58:53.978921",
     "exception": false,
     "start_time": "2023-03-03T04:58:53.942014",
     "status": "completed"
    },
    "tags": []
   },
   "outputs": [
    {
     "data": {
      "text/plain": [
       "804"
      ]
     },
     "execution_count": 61,
     "metadata": {},
     "output_type": "execute_result"
    }
   ],
   "source": [
    "best_nrounds = res.shape[0] - 1\n",
    "best_nrounds"
   ]
  },
  {
   "cell_type": "code",
   "execution_count": 62,
   "id": "66787887",
   "metadata": {
    "execution": {
     "iopub.execute_input": "2023-03-03T04:58:54.036520Z",
     "iopub.status.busy": "2023-03-03T04:58:54.036144Z",
     "iopub.status.idle": "2023-03-03T04:58:55.928467Z",
     "shell.execute_reply": "2023-03-03T04:58:55.927114Z"
    },
    "papermill": {
     "duration": 1.923958,
     "end_time": "2023-03-03T04:58:55.930910",
     "exception": false,
     "start_time": "2023-03-03T04:58:54.006952",
     "status": "completed"
    },
    "tags": []
   },
   "outputs": [],
   "source": [
    "gbdt = xgb.train(xgb2_params, dtrain, num_boost_round = best_nrounds)"
   ]
  },
  {
   "cell_type": "code",
   "execution_count": 63,
   "id": "5e4f8b65",
   "metadata": {
    "execution": {
     "iopub.execute_input": "2023-03-03T04:58:55.988096Z",
     "iopub.status.busy": "2023-03-03T04:58:55.987270Z",
     "iopub.status.idle": "2023-03-03T04:58:56.001213Z",
     "shell.execute_reply": "2023-03-03T04:58:56.000510Z"
    },
    "papermill": {
     "duration": 0.045207,
     "end_time": "2023-03-03T04:58:56.003393",
     "exception": false,
     "start_time": "2023-03-03T04:58:55.958186",
     "status": "completed"
    },
    "tags": []
   },
   "outputs": [
    {
     "data": {
      "text/plain": [
       "0.009654706218608916"
      ]
     },
     "execution_count": 63,
     "metadata": {},
     "output_type": "execute_result"
    }
   ],
   "source": [
    "mean_squared_error(gbdt.predict(dtrain), y_train)"
   ]
  },
  {
   "cell_type": "markdown",
   "id": "fbc9cca9",
   "metadata": {
    "papermill": {
     "duration": 0.027376,
     "end_time": "2023-03-03T04:58:56.058897",
     "exception": false,
     "start_time": "2023-03-03T04:58:56.031521",
     "status": "completed"
    },
    "tags": []
   },
   "source": [
    "# blending models "
   ]
  },
  {
   "cell_type": "code",
   "execution_count": 64,
   "id": "0affb502",
   "metadata": {
    "execution": {
     "iopub.execute_input": "2023-03-03T04:58:56.115357Z",
     "iopub.status.busy": "2023-03-03T04:58:56.115051Z",
     "iopub.status.idle": "2023-03-03T04:58:56.121466Z",
     "shell.execute_reply": "2023-03-03T04:58:56.120575Z"
    },
    "papermill": {
     "duration": 0.03667,
     "end_time": "2023-03-03T04:58:56.123174",
     "exception": false,
     "start_time": "2023-03-03T04:58:56.086504",
     "status": "completed"
    },
    "tags": []
   },
   "outputs": [
    {
     "data": {
      "text/plain": [
       "array([11.7432354 , 12.00177231, 12.06511555, ..., 11.95858746,\n",
       "       11.65252609, 12.23976421])"
      ]
     },
     "execution_count": 64,
     "metadata": {},
     "output_type": "execute_result"
    }
   ],
   "source": [
    "xg_oof_test.flatten()"
   ]
  },
  {
   "cell_type": "code",
   "execution_count": 65,
   "id": "d18d1158",
   "metadata": {
    "execution": {
     "iopub.execute_input": "2023-03-03T04:58:56.181132Z",
     "iopub.status.busy": "2023-03-03T04:58:56.180308Z",
     "iopub.status.idle": "2023-03-03T04:58:56.199957Z",
     "shell.execute_reply": "2023-03-03T04:58:56.198447Z"
    },
    "papermill": {
     "duration": 0.051322,
     "end_time": "2023-03-03T04:58:56.202450",
     "exception": false,
     "start_time": "2023-03-03T04:58:56.151128",
     "status": "completed"
    },
    "tags": []
   },
   "outputs": [],
   "source": [
    "blend_pred = 0.1 * np.expm1(xg_oof_test.flatten()) + \\\n",
    "             0.1 * np.expm1(lgb_oof_test.flatten()) + \\\n",
    "             0.15 * np.expm1(ridge_oof_test.flatten()) + \\\n",
    "             0.1 * np.expm1(gbr_oof_test.flatten()) + \\\n",
    "             0.15 * np.expm1(svr_oof_test.flatten()) + \\\n",
    "             0.4 * np.expm1(gbdt.predict(dtest))\n"
   ]
  },
  {
   "cell_type": "code",
   "execution_count": 66,
   "id": "0e95fb14",
   "metadata": {
    "execution": {
     "iopub.execute_input": "2023-03-03T04:58:56.259515Z",
     "iopub.status.busy": "2023-03-03T04:58:56.259184Z",
     "iopub.status.idle": "2023-03-03T04:58:56.273099Z",
     "shell.execute_reply": "2023-03-03T04:58:56.271835Z"
    },
    "papermill": {
     "duration": 0.044888,
     "end_time": "2023-03-03T04:58:56.275453",
     "exception": false,
     "start_time": "2023-03-03T04:58:56.230565",
     "status": "completed"
    },
    "tags": []
   },
   "outputs": [],
   "source": [
    "# submit\n",
    "submission = pd.read_csv(\"/kaggle/input/house-prices-advanced-regression-techniques/sample_submission.csv\")\n",
    "submission.iloc[:, 1] = blend_pred"
   ]
  },
  {
   "cell_type": "code",
   "execution_count": 67,
   "id": "10cae18c",
   "metadata": {
    "execution": {
     "iopub.execute_input": "2023-03-03T04:58:56.334049Z",
     "iopub.status.busy": "2023-03-03T04:58:56.332906Z",
     "iopub.status.idle": "2023-03-03T04:58:56.343812Z",
     "shell.execute_reply": "2023-03-03T04:58:56.342768Z"
    },
    "papermill": {
     "duration": 0.041824,
     "end_time": "2023-03-03T04:58:56.345906",
     "exception": false,
     "start_time": "2023-03-03T04:58:56.304082",
     "status": "completed"
    },
    "tags": []
   },
   "outputs": [],
   "source": [
    "submission.to_csv('submission.csv', index=None)"
   ]
  }
 ],
 "metadata": {
  "kernelspec": {
   "display_name": "Python 3",
   "language": "python",
   "name": "python3"
  },
  "language_info": {
   "codemirror_mode": {
    "name": "ipython",
    "version": 3
   },
   "file_extension": ".py",
   "mimetype": "text/x-python",
   "name": "python",
   "nbconvert_exporter": "python",
   "pygments_lexer": "ipython3",
   "version": "3.7.12"
  },
  "papermill": {
   "default_parameters": {},
   "duration": 272.625351,
   "end_time": "2023-03-03T04:58:57.296243",
   "environment_variables": {},
   "exception": null,
   "input_path": "__notebook__.ipynb",
   "output_path": "__notebook__.ipynb",
   "parameters": {},
   "start_time": "2023-03-03T04:54:24.670892",
   "version": "2.3.4"
  }
 },
 "nbformat": 4,
 "nbformat_minor": 5
}
